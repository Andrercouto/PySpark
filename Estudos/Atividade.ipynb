{
 "cells": [
  {
   "cell_type": "markdown",
   "id": "30500680",
   "metadata": {},
   "source": [
    "## Atividade\n",
    "\n",
    "Realizar 3 consultas levando em conta as tabelas Clientes, Vendas, Itens Venda, Produtos, Vendedores:\n",
    "\n",
    "- 1. Criar consulta mostrando nome, estado e status dos clientes\n",
    "\n",
    "- 2. Criar consulta mostrando apenas os clientes Platinum e Gold\n",
    "\n",
    "- 3. Demonstrar o total de Vendas de cada status"
   ]
  },
  {
   "cell_type": "code",
   "execution_count": 23,
   "id": "5a1a2c35",
   "metadata": {},
   "outputs": [],
   "source": [
    "# Carregando libs e iniciando Session\n",
    "from pyspark.sql import SparkSession, functions as func\n",
    "from pyspark.sql.types import *\n",
    "from pyspark.sql.functions import *\n",
    "\n",
    "spark = SparkSession.builder.master(\"local[1]\").appName(\"Testing\").getOrCreate()"
   ]
  },
  {
   "cell_type": "markdown",
   "id": "edf09e2c",
   "metadata": {},
   "source": [
    "### Consulta 1"
   ]
  },
  {
   "cell_type": "code",
   "execution_count": 24,
   "id": "0f88c506",
   "metadata": {},
   "outputs": [],
   "source": [
    "# Importando tabela clientes\n",
    "clientes = spark.read.format('parquet').load('arquivos/Atividades/Clientes.parquet')"
   ]
  },
  {
   "cell_type": "code",
   "execution_count": 25,
   "id": "7dffc081",
   "metadata": {},
   "outputs": [
    {
     "name": "stdout",
     "output_type": "stream",
     "text": [
      "+---------+--------------------+------+------+--------+\n",
      "|ClienteID|             Cliente|Estado|Genero|  Status|\n",
      "+---------+--------------------+------+------+--------+\n",
      "|        1|Adelina Buenaventura|    RJ|     M|  Silver|\n",
      "|        2|        Adelino Gago|    RJ|     M|  Silver|\n",
      "|        3|     Adolfo Patrício|    PE|     M|  Silver|\n",
      "|        4|    Adriana Guedelha|    RO|     F|Platinum|\n",
      "|        5|       Adélio Lisboa|    SE|     M|  Silver|\n",
      "+---------+--------------------+------+------+--------+\n",
      "only showing top 5 rows\n",
      "\n"
     ]
    }
   ],
   "source": [
    "# Conferindo a tabela\n",
    "clientes.show(5)"
   ]
  },
  {
   "cell_type": "code",
   "execution_count": 26,
   "id": "e0ce7201",
   "metadata": {},
   "outputs": [
    {
     "name": "stdout",
     "output_type": "stream",
     "text": [
      "+--------------------+------+--------+\n",
      "|                Nome|Estado|  Status|\n",
      "+--------------------+------+--------+\n",
      "|Adelina Buenaventura|    RJ|  Silver|\n",
      "|        Adelino Gago|    RJ|  Silver|\n",
      "|     Adolfo Patrício|    PE|  Silver|\n",
      "|    Adriana Guedelha|    RO|Platinum|\n",
      "|       Adélio Lisboa|    SE|  Silver|\n",
      "|       Adérito Bahía|    MA|  Silver|\n",
      "|       Aida Dorneles|    RN|  Silver|\n",
      "|   Alarico Quinterno|    AC|  Silver|\n",
      "|    Alberto Cezimbra|    AM|  Silver|\n",
      "|    Alberto Monsanto|    RN|    Gold|\n",
      "|       Albino Canela|    AC|  Silver|\n",
      "|     Alceste Varanda|    RR|  Silver|\n",
      "|  Alcides Carvalhais|    RO|  Silver|\n",
      "|        Aldo Martins|    GO|  Silver|\n",
      "|   Alexandra Tabares|    MG|  Silver|\n",
      "|      Alfredo Cotrim|    SC|  Silver|\n",
      "|     Almeno Figueira|    SC|  Silver|\n",
      "|      Alvito Peralta|    AM|  Silver|\n",
      "|     Amadeu Martinho|    RN|  Silver|\n",
      "|      Amélia Estévez|    PE|  Silver|\n",
      "+--------------------+------+--------+\n",
      "only showing top 20 rows\n",
      "\n"
     ]
    }
   ],
   "source": [
    "# Consulta\n",
    "clientes.select('Cliente', 'Estado', 'Status').withColumnRenamed('Cliente','Nome').show()"
   ]
  },
  {
   "cell_type": "markdown",
   "id": "29c23a72",
   "metadata": {},
   "source": [
    "### Consulta 2"
   ]
  },
  {
   "cell_type": "code",
   "execution_count": 27,
   "id": "f5ccde55",
   "metadata": {},
   "outputs": [
    {
     "name": "stdout",
     "output_type": "stream",
     "text": [
      "+---------+-------------------+------+------+--------+\n",
      "|ClienteID|            Cliente|Estado|Genero|  Status|\n",
      "+---------+-------------------+------+------+--------+\n",
      "|        4|   Adriana Guedelha|    RO|     F|Platinum|\n",
      "|       10|   Alberto Monsanto|    RN|     M|    Gold|\n",
      "|       28|      Anna Carvajal|    RS|     F|    Gold|\n",
      "|       49|      Bento Quintão|    SP|     M|    Gold|\n",
      "|       68|      Carminda Dias|    AM|     F|    Gold|\n",
      "|       83|      Cláudio Jorge|    TO|     M|    Gold|\n",
      "|      121|    Dionísio Saltão|    PR|     M|    Gold|\n",
      "|      166|   Firmino Meireles|    AM|     M|    Gold|\n",
      "|      170|      Flor Vilanova|    CE|     M|Platinum|\n",
      "|      220|Honorina Villaverde|    PE|     F|    Gold|\n",
      "|      230|    Ibijara Botelho|    RR|     F|Platinum|\n",
      "|      237|  Iracema Rodríguez|    BA|     F|    Gold|\n",
      "|      247|         Joana Ataí|    GO|     F|Platinum|\n",
      "+---------+-------------------+------+------+--------+\n",
      "\n"
     ]
    }
   ],
   "source": [
    "# Consulta\n",
    "clientes.filter((func.col('Status')=='Platinum')|(func.col('Status')=='Gold')).show()"
   ]
  },
  {
   "cell_type": "markdown",
   "id": "2bc22f5b",
   "metadata": {},
   "source": [
    "### Consulta 3"
   ]
  },
  {
   "cell_type": "code",
   "execution_count": 28,
   "id": "4072916f",
   "metadata": {},
   "outputs": [],
   "source": [
    "# Importando tabela vendas\n",
    "vendas = spark.read.format('parquet').load('arquivos/Atividades/Vendas.parquet')"
   ]
  },
  {
   "cell_type": "code",
   "execution_count": 29,
   "id": "e516fb2f",
   "metadata": {},
   "outputs": [
    {
     "name": "stdout",
     "output_type": "stream",
     "text": [
      "+--------+----------+---------+--------+--------+\n",
      "|VendasID|VendedorID|ClienteID|    Data|   Total|\n",
      "+--------+----------+---------+--------+--------+\n",
      "|       1|         1|       91|1/1/2019|  8053.6|\n",
      "|       2|         6|      185|1/1/2020|   150.4|\n",
      "|       3|         7|       31|2/1/2020|  6087.0|\n",
      "|       4|         5|       31|2/1/2019| 13828.6|\n",
      "|       5|         5|       31|3/1/2018|26096.66|\n",
      "+--------+----------+---------+--------+--------+\n",
      "only showing top 5 rows\n",
      "\n"
     ]
    }
   ],
   "source": [
    "# Conferindo a tabela\n",
    "vendas.show(5)"
   ]
  },
  {
   "cell_type": "code",
   "execution_count": 33,
   "id": "6a086fe8",
   "metadata": {},
   "outputs": [
    {
     "data": {
      "text/plain": [
       "StructType([StructField('VendasID', LongType(), True), StructField('VendedorID', LongType(), True), StructField('ClienteID', LongType(), True), StructField('Data', StringType(), True), StructField('Total', DoubleType(), True)])"
      ]
     },
     "execution_count": 33,
     "metadata": {},
     "output_type": "execute_result"
    }
   ],
   "source": [
    "# Checando o schema\n",
    "vendas.schema"
   ]
  },
  {
   "cell_type": "code",
   "execution_count": 70,
   "id": "67fa4304",
   "metadata": {},
   "outputs": [
    {
     "name": "stdout",
     "output_type": "stream",
     "text": [
      "+---------+--------+\n",
      "|IDCliente|   Total|\n",
      "+---------+--------+\n",
      "|      191|72001.75|\n",
      "|       65| 2511.75|\n",
      "|      243|   220.4|\n",
      "|       54|12439.32|\n",
      "|       19|  2656.1|\n",
      "+---------+--------+\n",
      "only showing top 5 rows\n",
      "\n"
     ]
    }
   ],
   "source": [
    "# Criando tabela de vendas por cliente\n",
    "vendas_p_cliente = vendas.groupby('ClienteID').agg(sum('Total')).withColumnRenamed('ClienteID','IDCliente').withColumnRenamed('sum(Total)','Total')\n",
    "vendas_p_cliente.show(5)"
   ]
  },
  {
   "cell_type": "code",
   "execution_count": 73,
   "id": "bf06d8ec",
   "metadata": {},
   "outputs": [
    {
     "name": "stdout",
     "output_type": "stream",
     "text": [
      "+--------+-----------------+\n",
      "|  Status|       sum(Total)|\n",
      "+--------+-----------------+\n",
      "|Platinum|         12584.68|\n",
      "|    Gold|         27286.69|\n",
      "|  Silver|3014291.359999999|\n",
      "+--------+-----------------+\n",
      "\n"
     ]
    }
   ],
   "source": [
    "# Consulta\n",
    "clientes.join(vendas_p_cliente ,clientes.ClienteID == vendas_p_cliente.IDCliente, \"left\").groupBy('Status').agg(sum('Total')).orderBy('sum(Total)').show()"
   ]
  }
 ],
 "metadata": {
  "kernelspec": {
   "display_name": "Python 3 (ipykernel)",
   "language": "python",
   "name": "python3"
  },
  "language_info": {
   "codemirror_mode": {
    "name": "ipython",
    "version": 3
   },
   "file_extension": ".py",
   "mimetype": "text/x-python",
   "name": "python",
   "nbconvert_exporter": "python",
   "pygments_lexer": "ipython3",
   "version": "3.10.6"
  }
 },
 "nbformat": 4,
 "nbformat_minor": 5
}
