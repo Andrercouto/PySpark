{
 "cells": [
  {
   "cell_type": "markdown",
   "id": "eaba8ebf",
   "metadata": {},
   "source": [
    "## Atividade\n",
    "\n",
    "Realizar 3 consultas levando em conta as tabelas Clientes, Vendas, Itens Venda, Produtos, Vendedores:\n",
    "\n",
    "- 1. Criar um banco de dados no DW chamado VendasVarejo, e guartar as 5 tabelas no banco.\n",
    "\n",
    "- 2. Consulta que mostre cada item vendido, com o Nome do Cliente, Data da Venda, Produto, Vendedor e Valor total do item."
   ]
  },
  {
   "cell_type": "code",
   "execution_count": 2,
   "id": "5a3b57c5",
   "metadata": {},
   "outputs": [],
   "source": [
    "# Carregando libs e iniciando Session\n",
    "from pyspark.sql import SparkSession, functions as func\n",
    "from pyspark.sql.types import *\n",
    "from pyspark.sql.functions import *\n",
    "\n",
    "spark = SparkSession.builder.getOrCreate()"
   ]
  },
  {
   "cell_type": "markdown",
   "id": "93a2f4fe",
   "metadata": {},
   "source": [
    "### Atividade 1"
   ]
  },
  {
   "cell_type": "code",
   "execution_count": 4,
   "id": "875da5f4",
   "metadata": {},
   "outputs": [
    {
     "name": "stdout",
     "output_type": "stream",
     "text": [
      "+---------+\n",
      "|namespace|\n",
      "+---------+\n",
      "|  default|\n",
      "+---------+\n",
      "\n"
     ]
    }
   ],
   "source": [
    "# Ver bancos de dados\n",
    "spark.sql('show databases').show()"
   ]
  },
  {
   "cell_type": "code",
   "execution_count": 5,
   "id": "bb2792c3",
   "metadata": {},
   "outputs": [
    {
     "data": {
      "text/plain": [
       "DataFrame[]"
      ]
     },
     "execution_count": 5,
     "metadata": {},
     "output_type": "execute_result"
    }
   ],
   "source": [
    "# Criar Novo bancos de dados\n",
    "spark.sql('create database vendasvarejo')"
   ]
  },
  {
   "cell_type": "code",
   "execution_count": 6,
   "id": "4135ccfd",
   "metadata": {},
   "outputs": [
    {
     "data": {
      "text/plain": [
       "DataFrame[]"
      ]
     },
     "execution_count": 6,
     "metadata": {},
     "output_type": "execute_result"
    }
   ],
   "source": [
    "# Usar o banco de dados recem-criado\n",
    "spark.sql('use vendasvarejo')"
   ]
  },
  {
   "cell_type": "code",
   "execution_count": 7,
   "id": "4c6be4d1",
   "metadata": {},
   "outputs": [
    {
     "name": "stderr",
     "output_type": "stream",
     "text": [
      "                                                                                \r"
     ]
    }
   ],
   "source": [
    "# Importando e salvando tabela clientes\n",
    "clientes = spark.read.format('parquet').load('../arquivos/Atividades/Clientes.parquet')\n",
    "clientes.write.mode('overwrite').saveAsTable('clientes')"
   ]
  },
  {
   "cell_type": "code",
   "execution_count": 8,
   "id": "166680be",
   "metadata": {},
   "outputs": [],
   "source": [
    "# Importando e salvando tabela vendas\n",
    "vendas = spark.read.format('parquet').load('../arquivos/Atividades/Vendas.parquet')\n",
    "vendas.write.mode('overwrite').saveAsTable('vendas')"
   ]
  },
  {
   "cell_type": "code",
   "execution_count": 12,
   "id": "36f41496",
   "metadata": {},
   "outputs": [],
   "source": [
    "# Importando e salvando tabela vendedores\n",
    "vendedores = spark.read.format('parquet').load('../arquivos/Atividades/Vendedores.parquet')\n",
    "vendedores.write.mode('overwrite').saveAsTable('vendedores')"
   ]
  },
  {
   "cell_type": "code",
   "execution_count": 13,
   "id": "011d98e2",
   "metadata": {},
   "outputs": [],
   "source": [
    "# Importando e salvando tabela produtos\n",
    "prod = spark.read.format('parquet').load('../arquivos/Atividades/Produtos.parquet')\n",
    "prod.write.mode('overwrite').saveAsTable('produtos')"
   ]
  },
  {
   "cell_type": "code",
   "execution_count": 14,
   "id": "901139d1",
   "metadata": {},
   "outputs": [
    {
     "name": "stderr",
     "output_type": "stream",
     "text": [
      "                                                                                \r"
     ]
    }
   ],
   "source": [
    "# Importando e salvando tabela itens vendas\n",
    "itens_vendas = spark.read.format('parquet').load('../arquivos/Atividades/ItensVendas.parquet')\n",
    "itens_vendas.write.mode('overwrite').saveAsTable('itensvendas')"
   ]
  },
  {
   "cell_type": "code",
   "execution_count": 16,
   "id": "054f7892",
   "metadata": {},
   "outputs": [
    {
     "name": "stdout",
     "output_type": "stream",
     "text": [
      "+------------+-----------+-----------+\n",
      "|   namespace|  tableName|isTemporary|\n",
      "+------------+-----------+-----------+\n",
      "|vendasvarejo|   clientes|      false|\n",
      "|vendasvarejo|itensvendas|      false|\n",
      "|vendasvarejo|   produtos|      false|\n",
      "|vendasvarejo|     vendas|      false|\n",
      "|vendasvarejo| vendedores|      false|\n",
      "+------------+-----------+-----------+\n",
      "\n"
     ]
    }
   ],
   "source": [
    "# Checando as tabelas salvas\n",
    "spark.sql('show tables').show()"
   ]
  },
  {
   "cell_type": "markdown",
   "id": "f27f920c",
   "metadata": {},
   "source": [
    "### Atividade 2"
   ]
  },
  {
   "cell_type": "code",
   "execution_count": 22,
   "id": "8e0c1ee2",
   "metadata": {},
   "outputs": [
    {
     "name": "stdout",
     "output_type": "stream",
     "text": [
      "+---------+--------+----------+-------------+----------+--------+----------------+\n",
      "|ProdutoID|VendasID|Quantidade|ValorUnitario|ValorTotal|Desconto|TotalComDesconto|\n",
      "+---------+--------+----------+-------------+----------+--------+----------------+\n",
      "|        2|     400|         2|       9201.0|   18402.0| 6256,68|        12145.32|\n",
      "|        2|     385|         2|       9201.0|   18402.0| 5704,62|        12697.38|\n",
      "+---------+--------+----------+-------------+----------+--------+----------------+\n",
      "\n"
     ]
    }
   ],
   "source": [
    "# Checando tabela ItensVendas\n",
    "spark.sql('select * from itensvendas limit 2').show()"
   ]
  },
  {
   "cell_type": "code",
   "execution_count": 23,
   "id": "42f7a32b",
   "metadata": {},
   "outputs": [
    {
     "name": "stdout",
     "output_type": "stream",
     "text": [
      "+---------+--------------------+------+------+------+\n",
      "|ClienteID|             Cliente|Estado|Genero|Status|\n",
      "+---------+--------------------+------+------+------+\n",
      "|        1|Adelina Buenaventura|    RJ|     M|Silver|\n",
      "|        2|        Adelino Gago|    RJ|     M|Silver|\n",
      "+---------+--------------------+------+------+------+\n",
      "\n"
     ]
    }
   ],
   "source": [
    "# Checando tabela Clientes\n",
    "spark.sql('select * from clientes limit 2').show()"
   ]
  },
  {
   "cell_type": "code",
   "execution_count": 25,
   "id": "4fada5ea",
   "metadata": {},
   "outputs": [
    {
     "name": "stdout",
     "output_type": "stream",
     "text": [
      "+---------+--------------------+---------+\n",
      "|ProdutoID|             Produto|    Preco|\n",
      "+---------+--------------------+---------+\n",
      "|        1|Bicicleta Aro 29 ...|8.852,00 |\n",
      "|        2|Bicicleta Altools...|9.201,00 |\n",
      "+---------+--------------------+---------+\n",
      "\n"
     ]
    }
   ],
   "source": [
    "# Checando tabela Produtos\n",
    "spark.sql('select * from produtos limit 2').show()"
   ]
  },
  {
   "cell_type": "code",
   "execution_count": 26,
   "id": "51bd8ac5",
   "metadata": {},
   "outputs": [
    {
     "name": "stdout",
     "output_type": "stream",
     "text": [
      "+----------+----------------+\n",
      "|VendedorID|        Vendedor|\n",
      "+----------+----------------+\n",
      "|         1|    Armando Lago|\n",
      "|         2|Capitolino Bahía|\n",
      "+----------+----------------+\n",
      "\n"
     ]
    }
   ],
   "source": [
    "# Checando tabela Vendedores\n",
    "spark.sql('select * from vendedores limit 2').show()"
   ]
  },
  {
   "cell_type": "code",
   "execution_count": 27,
   "id": "f5d67138",
   "metadata": {},
   "outputs": [
    {
     "name": "stdout",
     "output_type": "stream",
     "text": [
      "+--------+----------+---------+--------+------+\n",
      "|VendasID|VendedorID|ClienteID|    Data| Total|\n",
      "+--------+----------+---------+--------+------+\n",
      "|       1|         1|       91|1/1/2019|8053.6|\n",
      "|       2|         6|      185|1/1/2020| 150.4|\n",
      "+--------+----------+---------+--------+------+\n",
      "\n"
     ]
    }
   ],
   "source": [
    "# Checando tabela Vendas\n",
    "spark.sql('select * from vendas limit 2').show()"
   ]
  },
  {
   "cell_type": "code",
   "execution_count": 45,
   "id": "25fd909c",
   "metadata": {},
   "outputs": [
    {
     "name": "stdout",
     "output_type": "stream",
     "text": [
      "+--------------------+----------+--------------------+----------------+----------+\n",
      "|                Nome|      Data|             Produto|        Vendedor|ValorTotal|\n",
      "+--------------------+----------+--------------------+----------------+----------+\n",
      "|    Antão Corte-Real|  4/1/2020|Bicicleta Altools...|  Hélio Liberato|   18402.0|\n",
      "|    Antão Corte-Real| 10/4/2019|Bicicleta Altools...| Godo Capiperibe|   18402.0|\n",
      "|      Cosme Zambujal| 17/5/2019|Bicicleta Altools...|Jéssica Castelão|   18402.0|\n",
      "|      Brígida Gusmão|  4/6/2020|Bicicleta Altools...|  Hélio Liberato|   18402.0|\n",
      "|   Bárbara Magalhães|15/12/2020|Bicicleta Altools...|  Hélio Liberato|   18402.0|\n",
      "|    Humberto Almeida|28/12/2019|Bicicleta Altools...|   Iberê Lacerda|   18402.0|\n",
      "|    Davide Alcántara| 24/2/2019|Bicicleta Aro 29 ...|Jéssica Castelão|   17704.0|\n",
      "|    Antão Corte-Real| 23/3/2020|Bicicleta Aro 29 ...|  Tobias Furtado|   17704.0|\n",
      "|       Cosme Ipanema|  5/4/2020|Bicicleta Altools...|  Tobias Furtado|   16561.8|\n",
      "|  Greice Lameirinhas| 27/6/2018|Bicicleta Altools...|  Tobias Furtado|   16561.8|\n",
      "|   Gertrudes Rabello|  5/9/2019|Bicicleta Altools...|  Hélio Liberato|   16561.8|\n",
      "|    Antão Corte-Real|15/10/2020|Bicicleta Altools...|    Armando Lago|   16561.8|\n",
      "|Cândido Sousa do ...|10/11/2018|Bicicleta Altools...|   Daniel Pirajá|   16561.8|\n",
      "|    Antão Corte-Real|16/11/2018|Bicicleta Altools...|   Iberê Lacerda|   16561.8|\n",
      "|      Brígida Gusmão| 18/4/2019|Bicicleta Aro 29 ...|    Simão Rivero|   15933.6|\n",
      "|    Antão Corte-Real|16/11/2018|Bicicleta Aro 29 ...|   Iberê Lacerda|   15933.6|\n",
      "|      Brígida Gusmão| 10/1/2019|Bicicleta Altools...|Jéssica Castelão|   15641.7|\n",
      "|       Cidália Miera| 13/1/2019|Bicicleta Altools...|Capitolino Bahía|   15641.7|\n",
      "|   Cândida Silvestre|  5/2/2020|Bicicleta Altools...| Godo Capiperibe|   15641.7|\n",
      "|      Brígida Gusmão| 19/4/2019|Bicicleta Altools...|  Hélio Liberato|   15641.7|\n",
      "+--------------------+----------+--------------------+----------------+----------+\n",
      "only showing top 20 rows\n",
      "\n"
     ]
    }
   ],
   "source": [
    "# Consulta\n",
    "spark.sql('select c.Cliente as Nome,\\\n",
    "                  v.Data,\\\n",
    "                  p.Produto,\\\n",
    "                  d.Vendedor,\\\n",
    "                  i.ValorTotal\\\n",
    "                  from vendas v\\\n",
    "                  left join clientes c on v.ClienteID == c.ClienteID\\\n",
    "                  left join vendedores d on d.VendedorID == v.VendedorID\\\n",
    "                  left join itensvendas i on i.VendasID == v.VendasID\\\n",
    "                  left join produtos p on i.ProdutoID == p.ProdutoID\\\n",
    "                  sort by ValorTotal desc').show()"
   ]
  }
 ],
 "metadata": {
  "kernelspec": {
   "display_name": "Python 3 (ipykernel)",
   "language": "python",
   "name": "python3"
  },
  "language_info": {
   "codemirror_mode": {
    "name": "ipython",
    "version": 3
   },
   "file_extension": ".py",
   "mimetype": "text/x-python",
   "name": "python",
   "nbconvert_exporter": "python",
   "pygments_lexer": "ipython3",
   "version": "3.10.6"
  }
 },
 "nbformat": 4,
 "nbformat_minor": 5
}
