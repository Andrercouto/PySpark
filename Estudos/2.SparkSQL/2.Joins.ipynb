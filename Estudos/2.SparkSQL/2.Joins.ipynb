{
 "cells": [
  {
   "cell_type": "code",
   "execution_count": 3,
   "id": "6cdb59ec",
   "metadata": {},
   "outputs": [],
   "source": [
    "# Carregando libs e iniciando Session\n",
    "from pyspark.sql import SparkSession, functions as func\n",
    "from pyspark.sql.types import *\n",
    "from pyspark.sql.functions import *\n",
    "\n",
    "spark = SparkSession.builder.getOrCreate()"
   ]
  },
  {
   "cell_type": "code",
   "execution_count": 2,
   "id": "0f190bd4",
   "metadata": {},
   "outputs": [
    {
     "data": {
      "text/plain": [
       "DataFrame[]"
      ]
     },
     "execution_count": 2,
     "metadata": {},
     "output_type": "execute_result"
    }
   ],
   "source": [
    "# Criando Base de dados\n",
    "spark.sql(\"create database test\")\n",
    "spark.sql(\"use test\")"
   ]
  },
  {
   "cell_type": "code",
   "execution_count": 6,
   "id": "27c88f54",
   "metadata": {},
   "outputs": [
    {
     "name": "stderr",
     "output_type": "stream",
     "text": [
      "\r",
      "[Stage 0:>                                                          (0 + 1) / 1]\r"
     ]
    },
    {
     "name": "stdout",
     "output_type": "stream",
     "text": [
      "+-----+----------+------+\n",
      "|idrec|   datarec|iddesp|\n",
      "+-----+----------+------+\n",
      "|    1|2020-09-12|     2|\n",
      "|    2|2020-09-11|     2|\n",
      "|    3|2020-10-05|     4|\n",
      "|    4|2020-10-02|     5|\n",
      "|    5|2020-12-06|     5|\n",
      "|    6|2020-01-09|     5|\n",
      "|    7|2020-01-05|     9|\n",
      "+-----+----------+------+\n",
      "\n"
     ]
    },
    {
     "name": "stderr",
     "output_type": "stream",
     "text": [
      "\r",
      "[Stage 0:===========================================================(1 + 0) / 1]\r",
      "\r",
      "                                                                                \r"
     ]
    }
   ],
   "source": [
    "# Importando dados com definicao de schema\n",
    "schema = \" idrec INT, datarec STRING, iddesp INT\"\n",
    "rec = spark.read.csv('../arquivos/reclamacoes.csv', header=False,schema=schema)\n",
    "rec.show()"
   ]
  },
  {
   "cell_type": "code",
   "execution_count": 7,
   "id": "d6dec0ab",
   "metadata": {},
   "outputs": [
    {
     "name": "stderr",
     "output_type": "stream",
     "text": [
      "                                                                                \r"
     ]
    }
   ],
   "source": [
    "# Salvando tabela\n",
    "rec.write.saveAsTable('reclamacoes')"
   ]
  },
  {
   "cell_type": "code",
   "execution_count": 8,
   "id": "008b3e18",
   "metadata": {},
   "outputs": [
    {
     "name": "stderr",
     "output_type": "stream",
     "text": [
      "\r",
      "[Stage 2:>                                                          (0 + 1) / 1]\r",
      "\r",
      "[Stage 2:===========================================================(1 + 0) / 1]\r",
      "\r",
      "                                                                                \r"
     ]
    }
   ],
   "source": [
    "# Salvando Tabela\n",
    "schema = \" Id INT, nome STRING, status STRING, cidade STRING, vendas INT, data STRING\"\n",
    "vend = spark.read.csv('../arquivos/despachantes.csv', header=False,schema=schema)\n",
    "vend.write.saveAsTable('Vendedores')"
   ]
  },
  {
   "cell_type": "code",
   "execution_count": 11,
   "id": "9b5278a3",
   "metadata": {},
   "outputs": [
    {
     "name": "stderr",
     "output_type": "stream",
     "text": [
      "\r",
      "[Stage 3:>                                                          (0 + 1) / 1]\r",
      "\r",
      "                                                                                \r"
     ]
    },
    {
     "name": "stdout",
     "output_type": "stream",
     "text": [
      "+-----+----------+------+-------------------+\n",
      "|idrec|   datarec|iddesp|               nome|\n",
      "+-----+----------+------+-------------------+\n",
      "|    1|2020-09-12|     2|    Deolinda Vilela|\n",
      "|    2|2020-09-11|     2|    Deolinda Vilela|\n",
      "|    3|2020-10-05|     4|Felisbela Dornelles|\n",
      "|    4|2020-10-02|     5|     Graça Ornellas|\n",
      "|    5|2020-12-06|     5|     Graça Ornellas|\n",
      "|    6|2020-01-09|     5|     Graça Ornellas|\n",
      "|    7|2020-01-05|     9|      Uriel Queiroz|\n",
      "+-----+----------+------+-------------------+\n",
      "\n"
     ]
    }
   ],
   "source": [
    "# Inner Join de tabelas\n",
    "spark.sql('select reclamacoes.*, vendedores.nome from vendedores inner join reclamacoes on (reclamacoes.iddesp = vendedores.id)').show()"
   ]
  },
  {
   "cell_type": "code",
   "execution_count": 12,
   "id": "78e85a81",
   "metadata": {},
   "outputs": [
    {
     "name": "stdout",
     "output_type": "stream",
     "text": [
      "+-----+----------+------+-------------------+\n",
      "|idrec|   datarec|iddesp|               nome|\n",
      "+-----+----------+------+-------------------+\n",
      "|    1|2020-09-12|     2|    Deolinda Vilela|\n",
      "|    2|2020-09-11|     2|    Deolinda Vilela|\n",
      "|    3|2020-10-05|     4|Felisbela Dornelles|\n",
      "|    4|2020-10-02|     5|     Graça Ornellas|\n",
      "|    5|2020-12-06|     5|     Graça Ornellas|\n",
      "|    6|2020-01-09|     5|     Graça Ornellas|\n",
      "|    7|2020-01-05|     9|      Uriel Queiroz|\n",
      "+-----+----------+------+-------------------+\n",
      "\n"
     ]
    }
   ],
   "source": [
    "# Right Join de tabelas\n",
    "spark.sql('select reclamacoes.*, vendedores.nome from vendedores right join reclamacoes on (reclamacoes.iddesp = vendedores.id)').show()"
   ]
  },
  {
   "cell_type": "code",
   "execution_count": 13,
   "id": "6743e47e",
   "metadata": {},
   "outputs": [
    {
     "name": "stdout",
     "output_type": "stream",
     "text": [
      "+-----+----------+------+-------------------+\n",
      "|idrec|   datarec|iddesp|               nome|\n",
      "+-----+----------+------+-------------------+\n",
      "| null|      null|  null|   Carminda Pestana|\n",
      "|    2|2020-09-11|     2|    Deolinda Vilela|\n",
      "|    1|2020-09-12|     2|    Deolinda Vilela|\n",
      "| null|      null|  null|   Emídio Dornelles|\n",
      "|    3|2020-10-05|     4|Felisbela Dornelles|\n",
      "|    6|2020-01-09|     5|     Graça Ornellas|\n",
      "|    5|2020-12-06|     5|     Graça Ornellas|\n",
      "|    4|2020-10-02|     5|     Graça Ornellas|\n",
      "| null|      null|  null|   Matilde Rebouças|\n",
      "| null|      null|  null|    Noêmia   Orriça|\n",
      "| null|      null|  null|      Roque Vásquez|\n",
      "|    7|2020-01-05|     9|      Uriel Queiroz|\n",
      "| null|      null|  null|   Viviana Sequeira|\n",
      "+-----+----------+------+-------------------+\n",
      "\n"
     ]
    }
   ],
   "source": [
    "# Left Join de tabelas\n",
    "spark.sql('select reclamacoes.*, vendedores.nome from vendedores left join reclamacoes on (reclamacoes.iddesp = vendedores.id)').show()"
   ]
  },
  {
   "cell_type": "code",
   "execution_count": 20,
   "id": "64509215",
   "metadata": {},
   "outputs": [
    {
     "name": "stdout",
     "output_type": "stream",
     "text": [
      "+-----+----------+------+-------------------+\n",
      "|idrec|   datarec|iddesp|               nome|\n",
      "+-----+----------+------+-------------------+\n",
      "|    1|2020-09-12|     2|   Carminda Pestana|\n",
      "|    2|2020-09-11|     2|    Deolinda Vilela|\n",
      "|    3|2020-10-05|     4|   Emídio Dornelles|\n",
      "|    4|2020-10-02|     5|Felisbela Dornelles|\n",
      "|    5|2020-12-06|     5|     Graça Ornellas|\n",
      "|    6|2020-01-09|     5|   Matilde Rebouças|\n",
      "|    7|2020-01-05|     9|    Noêmia   Orriça|\n",
      "+-----+----------+------+-------------------+\n",
      "\n"
     ]
    }
   ],
   "source": [
    "# Inner Join de DataFrames\n",
    "vend.join(rec, rec.idrec == vend.Id, 'inner').select('idrec','datarec','iddesp','nome').show()"
   ]
  },
  {
   "cell_type": "code",
   "execution_count": 23,
   "id": "d348ed71",
   "metadata": {},
   "outputs": [
    {
     "name": "stdout",
     "output_type": "stream",
     "text": [
      "+-----+----------+------+-------------------+\n",
      "|idrec|   datarec|iddesp|               nome|\n",
      "+-----+----------+------+-------------------+\n",
      "|    1|2020-09-12|     2|   Carminda Pestana|\n",
      "|    2|2020-09-11|     2|    Deolinda Vilela|\n",
      "|    3|2020-10-05|     4|   Emídio Dornelles|\n",
      "|    4|2020-10-02|     5|Felisbela Dornelles|\n",
      "|    5|2020-12-06|     5|     Graça Ornellas|\n",
      "|    6|2020-01-09|     5|   Matilde Rebouças|\n",
      "|    7|2020-01-05|     9|    Noêmia   Orriça|\n",
      "| null|      null|  null|      Roque Vásquez|\n",
      "| null|      null|  null|      Uriel Queiroz|\n",
      "| null|      null|  null|   Viviana Sequeira|\n",
      "+-----+----------+------+-------------------+\n",
      "\n"
     ]
    }
   ],
   "source": [
    "# Right Join de DataFrames\n",
    "vend.join(rec, vend.Id == rec.idrec, 'left').select('idrec','datarec','iddesp','nome').show()"
   ]
  },
  {
   "cell_type": "code",
   "execution_count": null,
   "id": "d0de6bae",
   "metadata": {},
   "outputs": [],
   "source": []
  }
 ],
 "metadata": {
  "kernelspec": {
   "display_name": "Python 3 (ipykernel)",
   "language": "python",
   "name": "python3"
  },
  "language_info": {
   "codemirror_mode": {
    "name": "ipython",
    "version": 3
   },
   "file_extension": ".py",
   "mimetype": "text/x-python",
   "name": "python",
   "nbconvert_exporter": "python",
   "pygments_lexer": "ipython3",
   "version": "3.10.6"
  }
 },
 "nbformat": 4,
 "nbformat_minor": 5
}
