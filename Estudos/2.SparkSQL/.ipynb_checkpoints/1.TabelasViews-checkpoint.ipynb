{
 "cells": [
  {
   "cell_type": "code",
   "execution_count": 30,
   "id": "1b197569",
   "metadata": {},
   "outputs": [],
   "source": [
    "# Carregando libs e iniciando Session\n",
    "from pyspark.sql import SparkSession, functions as func\n",
    "from pyspark.sql.types import *\n",
    "\n",
    "spark = SparkSession.builder.getOrCreate()"
   ]
  },
  {
   "cell_type": "code",
   "execution_count": 3,
   "id": "869a4728",
   "metadata": {},
   "outputs": [
    {
     "name": "stdout",
     "output_type": "stream",
     "text": [
      "+---------+\n",
      "|namespace|\n",
      "+---------+\n",
      "|  default|\n",
      "+---------+\n",
      "\n"
     ]
    }
   ],
   "source": [
    "# Mostrando Bases de dados\n",
    "spark.sql(\"show databases\").show()"
   ]
  },
  {
   "cell_type": "code",
   "execution_count": 4,
   "id": "b18c545a",
   "metadata": {},
   "outputs": [
    {
     "data": {
      "text/plain": [
       "DataFrame[]"
      ]
     },
     "execution_count": 4,
     "metadata": {},
     "output_type": "execute_result"
    }
   ],
   "source": [
    "# Criando Bases de dados\n",
    "spark.sql(\"create database vend\")"
   ]
  },
  {
   "cell_type": "code",
   "execution_count": 5,
   "id": "2b2dee7f",
   "metadata": {},
   "outputs": [
    {
     "data": {
      "text/plain": [
       "DataFrame[]"
      ]
     },
     "execution_count": 5,
     "metadata": {},
     "output_type": "execute_result"
    }
   ],
   "source": [
    "# Ativando Bases de dados\n",
    "spark.sql(\"use vend\")"
   ]
  },
  {
   "cell_type": "code",
   "execution_count": 6,
   "id": "c93e78bb",
   "metadata": {},
   "outputs": [],
   "source": [
    "# Importando dados (Dataframe) com definicao de schema\n",
    "schema = \" Id INT, nome STRING, status STRING, cidade STRING, vendas INT, data STRING\"\n",
    "vend = spark.read.csv('../arquivos/despachantes.csv', header=False,schema=schema)"
   ]
  },
  {
   "cell_type": "code",
   "execution_count": 7,
   "id": "734a74a2",
   "metadata": {},
   "outputs": [
    {
     "name": "stderr",
     "output_type": "stream",
     "text": [
      "                                                                                \r"
     ]
    }
   ],
   "source": [
    "# Salvando Dataframe como tabela\n",
    "vend.write.saveAsTable('Vendedores')"
   ]
  },
  {
   "cell_type": "code",
   "execution_count": 8,
   "id": "f037f1a6",
   "metadata": {},
   "outputs": [
    {
     "name": "stdout",
     "output_type": "stream",
     "text": [
      "+---------+----------+-----------+\n",
      "|namespace| tableName|isTemporary|\n",
      "+---------+----------+-----------+\n",
      "|     vend|vendedores|      false|\n",
      "+---------+----------+-----------+\n",
      "\n"
     ]
    }
   ],
   "source": [
    "# Mostrando Tabelas da Base de dados\n",
    "spark.sql(\"show tables\").show()"
   ]
  },
  {
   "cell_type": "code",
   "execution_count": 9,
   "id": "08d94e33",
   "metadata": {},
   "outputs": [
    {
     "name": "stdout",
     "output_type": "stream",
     "text": [
      "+---+-------------------+------+-------------+------+----------+\n",
      "| Id|               nome|status|       cidade|vendas|      data|\n",
      "+---+-------------------+------+-------------+------+----------+\n",
      "|  1|   Carminda Pestana| Ativo|  Santa Maria|    23|2020-08-11|\n",
      "|  2|    Deolinda Vilela| Ativo|Novo Hamburgo|    34|2020-03-05|\n",
      "|  3|   Emídio Dornelles| Ativo| Porto Alegre|    34|2020-02-05|\n",
      "|  4|Felisbela Dornelles| Ativo| Porto Alegre|    36|2020-02-05|\n",
      "|  5|     Graça Ornellas| Ativo| Porto Alegre|    12|2020-02-05|\n",
      "|  6|   Matilde Rebouças| Ativo| Porto Alegre|    22|2019-01-05|\n",
      "|  7|    Noêmia   Orriça| Ativo|  Santa Maria|    45|2019-10-05|\n",
      "|  8|      Roque Vásquez| Ativo| Porto Alegre|    65|2020-03-05|\n",
      "|  9|      Uriel Queiroz| Ativo| Porto Alegre|    54|2018-05-05|\n",
      "| 10|   Viviana Sequeira| Ativo| Porto Alegre|     0|2020-09-05|\n",
      "+---+-------------------+------+-------------+------+----------+\n",
      "\n"
     ]
    }
   ],
   "source": [
    "# Select da tabela (Nao 'e mais o Dataframe carregado, mas a tabela criada)\n",
    "spark.sql(\"select * from vendedores\").show()"
   ]
  },
  {
   "cell_type": "code",
   "execution_count": 10,
   "id": "eba1e520",
   "metadata": {},
   "outputs": [],
   "source": [
    "# Salvando Dataframe como tabela (sobrescrito)\n",
    "vend.write.mode('overwrite').saveAsTable('Vendedores')"
   ]
  },
  {
   "cell_type": "markdown",
   "id": "d7478683",
   "metadata": {},
   "source": [
    "Ainda que a sessao termine e o dataframe seja carregado, a tabela persistira."
   ]
  },
  {
   "cell_type": "code",
   "execution_count": 11,
   "id": "1026c291",
   "metadata": {},
   "outputs": [],
   "source": [
    "# Salvando Dataframe como tabela (NAO GERENCIADA)\n",
    "vend.write.mode('overwrite').option('path', '../SparkSQL/spark-warehouse/vend.db/ext').saveAsTable('Vendedores_ng')"
   ]
  },
  {
   "cell_type": "code",
   "execution_count": 12,
   "id": "6b69abc0",
   "metadata": {},
   "outputs": [
    {
     "name": "stdout",
     "output_type": "stream",
     "text": [
      "+---------------------------------------------------------------------------------------------------------------------------------------------+\n",
      "|createtab_stmt                                                                                                                               |\n",
      "+---------------------------------------------------------------------------------------------------------------------------------------------+\n",
      "|CREATE TABLE vend.vendedores (\\n  Id INT,\\n  nome STRING,\\n  status STRING,\\n  cidade STRING,\\n  vendas INT,\\n  data STRING)\\nUSING parquet\\n|\n",
      "+---------------------------------------------------------------------------------------------------------------------------------------------+\n",
      "\n"
     ]
    }
   ],
   "source": [
    "# Metadados da tabela gerenciada\n",
    "spark.sql(\"show create table vendedores\").show(truncate=False)"
   ]
  },
  {
   "cell_type": "code",
   "execution_count": 13,
   "id": "5264cbe8",
   "metadata": {},
   "outputs": [
    {
     "name": "stdout",
     "output_type": "stream",
     "text": [
      "+-----------------------------------------------------------------------------------------------------------------------------------------------------------------------------------------------------------------------------------------------------------------------------+\n",
      "|createtab_stmt                                                                                                                                                                                                                                                               |\n",
      "+-----------------------------------------------------------------------------------------------------------------------------------------------------------------------------------------------------------------------------------------------------------------------------+\n",
      "|CREATE TABLE vend.vendedores_ng (\\n  Id INT,\\n  nome STRING,\\n  status STRING,\\n  cidade STRING,\\n  vendas INT,\\n  data STRING)\\nUSING parquet\\nLOCATION 'file:/home/vboxuser/Desktop/Github/PySpark/Estudos/SparkSQL/spark-warehouse/SparkSQL/spark-warehouse/vend.db/ext'\\n|\n",
      "+-----------------------------------------------------------------------------------------------------------------------------------------------------------------------------------------------------------------------------------------------------------------------------+\n",
      "\n"
     ]
    }
   ],
   "source": [
    "# Metadados da tabela externa\n",
    "spark.sql(\"show create table vendedores_ng\").show(truncate=False)"
   ]
  },
  {
   "cell_type": "code",
   "execution_count": 15,
   "id": "3cb150d8",
   "metadata": {},
   "outputs": [
    {
     "data": {
      "text/plain": [
       "[Table(name='vendedores', database='vend', description=None, tableType='MANAGED', isTemporary=False),\n",
       " Table(name='vendedores_ng', database='vend', description=None, tableType='EXTERNAL', isTemporary=False)]"
      ]
     },
     "execution_count": 15,
     "metadata": {},
     "output_type": "execute_result"
    }
   ],
   "source": [
    "# Listando tabelas\n",
    "spark.catalog.listTables()"
   ]
  },
  {
   "cell_type": "code",
   "execution_count": 16,
   "id": "f8be6c09",
   "metadata": {},
   "outputs": [],
   "source": [
    "# Criando View Temporaria\n",
    "vend.createOrReplaceTempView('vend_view1')"
   ]
  },
  {
   "cell_type": "code",
   "execution_count": 17,
   "id": "74384889",
   "metadata": {},
   "outputs": [
    {
     "name": "stdout",
     "output_type": "stream",
     "text": [
      "+---+-------------------+------+-------------+------+----------+\n",
      "| Id|               nome|status|       cidade|vendas|      data|\n",
      "+---+-------------------+------+-------------+------+----------+\n",
      "|  1|   Carminda Pestana| Ativo|  Santa Maria|    23|2020-08-11|\n",
      "|  2|    Deolinda Vilela| Ativo|Novo Hamburgo|    34|2020-03-05|\n",
      "|  3|   Emídio Dornelles| Ativo| Porto Alegre|    34|2020-02-05|\n",
      "|  4|Felisbela Dornelles| Ativo| Porto Alegre|    36|2020-02-05|\n",
      "|  5|     Graça Ornellas| Ativo| Porto Alegre|    12|2020-02-05|\n",
      "|  6|   Matilde Rebouças| Ativo| Porto Alegre|    22|2019-01-05|\n",
      "|  7|    Noêmia   Orriça| Ativo|  Santa Maria|    45|2019-10-05|\n",
      "|  8|      Roque Vásquez| Ativo| Porto Alegre|    65|2020-03-05|\n",
      "|  9|      Uriel Queiroz| Ativo| Porto Alegre|    54|2018-05-05|\n",
      "| 10|   Viviana Sequeira| Ativo| Porto Alegre|     0|2020-09-05|\n",
      "+---+-------------------+------+-------------+------+----------+\n",
      "\n"
     ]
    }
   ],
   "source": [
    "# Select da view\n",
    "spark.sql(\"select * from vend_view1\").show()"
   ]
  },
  {
   "cell_type": "code",
   "execution_count": 18,
   "id": "299f2a36",
   "metadata": {},
   "outputs": [],
   "source": [
    "# Criando View Temporaria\n",
    "vend.createOrReplaceGlobalTempView('vend_view2')"
   ]
  },
  {
   "cell_type": "code",
   "execution_count": 19,
   "id": "93101d5a",
   "metadata": {},
   "outputs": [
    {
     "name": "stdout",
     "output_type": "stream",
     "text": [
      "+---+-------------------+------+-------------+------+----------+\n",
      "| Id|               nome|status|       cidade|vendas|      data|\n",
      "+---+-------------------+------+-------------+------+----------+\n",
      "|  1|   Carminda Pestana| Ativo|  Santa Maria|    23|2020-08-11|\n",
      "|  2|    Deolinda Vilela| Ativo|Novo Hamburgo|    34|2020-03-05|\n",
      "|  3|   Emídio Dornelles| Ativo| Porto Alegre|    34|2020-02-05|\n",
      "|  4|Felisbela Dornelles| Ativo| Porto Alegre|    36|2020-02-05|\n",
      "|  5|     Graça Ornellas| Ativo| Porto Alegre|    12|2020-02-05|\n",
      "|  6|   Matilde Rebouças| Ativo| Porto Alegre|    22|2019-01-05|\n",
      "|  7|    Noêmia   Orriça| Ativo|  Santa Maria|    45|2019-10-05|\n",
      "|  8|      Roque Vásquez| Ativo| Porto Alegre|    65|2020-03-05|\n",
      "|  9|      Uriel Queiroz| Ativo| Porto Alegre|    54|2018-05-05|\n",
      "| 10|   Viviana Sequeira| Ativo| Porto Alegre|     0|2020-09-05|\n",
      "+---+-------------------+------+-------------+------+----------+\n",
      "\n"
     ]
    }
   ],
   "source": [
    "# Select da view (Adicao do global_temp)\n",
    "spark.sql(\"select * from global_temp.vend_view2\").show()"
   ]
  },
  {
   "cell_type": "code",
   "execution_count": 26,
   "id": "f505b8d5",
   "metadata": {},
   "outputs": [
    {
     "data": {
      "text/plain": [
       "DataFrame[]"
      ]
     },
     "execution_count": 26,
     "metadata": {},
     "output_type": "execute_result"
    }
   ],
   "source": [
    "# Criacao de views com SQL\n",
    "spark.sql('create or replace temp view vend_view3 as select sum(vendas), cidade from vendedores group by cidade')"
   ]
  },
  {
   "cell_type": "code",
   "execution_count": 28,
   "id": "55d26d2d",
   "metadata": {},
   "outputs": [
    {
     "name": "stdout",
     "output_type": "stream",
     "text": [
      "+-----------+-------------+\n",
      "|sum(vendas)|       cidade|\n",
      "+-----------+-------------+\n",
      "|         68|  Santa Maria|\n",
      "|         34|Novo Hamburgo|\n",
      "|        223| Porto Alegre|\n",
      "+-----------+-------------+\n",
      "\n"
     ]
    }
   ],
   "source": [
    "# Select da view \n",
    "spark.sql(\"select * from vend_view3\").show()"
   ]
  }
 ],
 "metadata": {
  "kernelspec": {
   "display_name": "Python 3 (ipykernel)",
   "language": "python",
   "name": "python3"
  },
  "language_info": {
   "codemirror_mode": {
    "name": "ipython",
    "version": 3
   },
   "file_extension": ".py",
   "mimetype": "text/x-python",
   "name": "python",
   "nbconvert_exporter": "python",
   "pygments_lexer": "ipython3",
   "version": "3.10.6"
  }
 },
 "nbformat": 4,
 "nbformat_minor": 5
}
