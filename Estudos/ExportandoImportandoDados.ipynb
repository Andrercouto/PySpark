{
 "cells": [
  {
   "cell_type": "code",
   "execution_count": 2,
   "id": "1d43261a",
   "metadata": {},
   "outputs": [],
   "source": [
    "# Carregando libs e iniciando Session\n",
    "from pyspark.sql import SparkSession, functions as func\n",
    "from pyspark.sql.types import *\n",
    "from pyspark.sql.functions import *\n",
    "\n",
    "spark = SparkSession.builder.master(\"local[1]\").appName(\"Testing\").getOrCreate()"
   ]
  },
  {
   "cell_type": "code",
   "execution_count": 4,
   "id": "6454bcec",
   "metadata": {},
   "outputs": [
    {
     "name": "stdout",
     "output_type": "stream",
     "text": [
      "+---+-------------------+------+-------------+------+----------+\n",
      "| Id|               nome|status|       cidade|vendas|      data|\n",
      "+---+-------------------+------+-------------+------+----------+\n",
      "|  1|   Carminda Pestana| Ativo|  Santa Maria|    23|2020-08-11|\n",
      "|  2|    Deolinda Vilela| Ativo|Novo Hamburgo|    34|2020-03-05|\n",
      "|  3|   Emídio Dornelles| Ativo| Porto Alegre|    34|2020-02-05|\n",
      "|  4|Felisbela Dornelles| Ativo| Porto Alegre|    36|2020-02-05|\n",
      "|  5|     Graça Ornellas| Ativo| Porto Alegre|    12|2020-02-05|\n",
      "|  6|   Matilde Rebouças| Ativo| Porto Alegre|    22|2019-01-05|\n",
      "|  7|    Noêmia   Orriça| Ativo|  Santa Maria|    45|2019-10-05|\n",
      "|  8|      Roque Vásquez| Ativo| Porto Alegre|    65|2020-03-05|\n",
      "|  9|      Uriel Queiroz| Ativo| Porto Alegre|    54|2018-05-05|\n",
      "| 10|   Viviana Sequeira| Ativo| Porto Alegre|     0|2020-09-05|\n",
      "+---+-------------------+------+-------------+------+----------+\n",
      "\n"
     ]
    }
   ],
   "source": [
    "# Importando dados com definicao de schema\n",
    "schema = \" Id INT, nome STRING, status STRING, cidade STRING, vendas INT, data STRING\"\n",
    "vend = spark.read.csv('arquivos/despachantes.csv', header=False,schema=schema)\n",
    "vend.show()"
   ]
  },
  {
   "cell_type": "code",
   "execution_count": 10,
   "id": "f80efc9e",
   "metadata": {},
   "outputs": [],
   "source": [
    "# Salvando dados formato parquet\n",
    "vend.write.format('parquet').save('arquivos_criados/vendedoresparquet')"
   ]
  },
  {
   "cell_type": "code",
   "execution_count": 11,
   "id": "326cea3d",
   "metadata": {},
   "outputs": [],
   "source": [
    "# Salvando dados formato csv\n",
    "vend.write.format('csv').save('arquivos_criados/vendedorescsv')"
   ]
  },
  {
   "cell_type": "code",
   "execution_count": 12,
   "id": "f9592ea5",
   "metadata": {},
   "outputs": [],
   "source": [
    "# Salvando dados formato json\n",
    "vend.write.format('json').save('arquivos_criados/vendedoresjson')"
   ]
  },
  {
   "cell_type": "code",
   "execution_count": 14,
   "id": "d630fe5a",
   "metadata": {},
   "outputs": [],
   "source": [
    "# Salvando dados formato orc\n",
    "vend.write.format('orc').save('arquivos_criados/vendedoresorc')"
   ]
  },
  {
   "cell_type": "code",
   "execution_count": 16,
   "id": "22cc67a5",
   "metadata": {},
   "outputs": [
    {
     "name": "stdout",
     "output_type": "stream",
     "text": [
      "+---+-------------------+------+-------------+------+----------+\n",
      "| Id|               nome|status|       cidade|vendas|      data|\n",
      "+---+-------------------+------+-------------+------+----------+\n",
      "|  1|   Carminda Pestana| Ativo|  Santa Maria|    23|2020-08-11|\n",
      "|  2|    Deolinda Vilela| Ativo|Novo Hamburgo|    34|2020-03-05|\n",
      "|  3|   Emídio Dornelles| Ativo| Porto Alegre|    34|2020-02-05|\n",
      "|  4|Felisbela Dornelles| Ativo| Porto Alegre|    36|2020-02-05|\n",
      "|  5|     Graça Ornellas| Ativo| Porto Alegre|    12|2020-02-05|\n",
      "|  6|   Matilde Rebouças| Ativo| Porto Alegre|    22|2019-01-05|\n",
      "|  7|    Noêmia   Orriça| Ativo|  Santa Maria|    45|2019-10-05|\n",
      "|  8|      Roque Vásquez| Ativo| Porto Alegre|    65|2020-03-05|\n",
      "|  9|      Uriel Queiroz| Ativo| Porto Alegre|    54|2018-05-05|\n",
      "| 10|   Viviana Sequeira| Ativo| Porto Alegre|     0|2020-09-05|\n",
      "+---+-------------------+------+-------------+------+----------+\n",
      "\n"
     ]
    }
   ],
   "source": [
    "# Importando dados de parquet\n",
    "par = spark.read.format('parquet').load('arquivos_criados/vendedoresparquet/part-00000-0f48e5c5-1ce0-4e20-afdb-29b28cab3642-c000.snappy.parquet')\n",
    "par.show()"
   ]
  },
  {
   "cell_type": "code",
   "execution_count": 25,
   "id": "62588157",
   "metadata": {},
   "outputs": [
    {
     "data": {
      "text/plain": [
       "StructType([StructField('Id', IntegerType(), True), StructField('nome', StringType(), True), StructField('status', StringType(), True), StructField('cidade', StringType(), True), StructField('vendas', IntegerType(), True), StructField('data', StringType(), True)])"
      ]
     },
     "execution_count": 25,
     "metadata": {},
     "output_type": "execute_result"
    }
   ],
   "source": [
    "# Conferindo Schema\n",
    "par.schema"
   ]
  },
  {
   "cell_type": "code",
   "execution_count": 18,
   "id": "148d6716",
   "metadata": {},
   "outputs": [
    {
     "name": "stdout",
     "output_type": "stream",
     "text": [
      "+---+-------------+----------+-------------------+------+------+\n",
      "| Id|       cidade|      data|               nome|status|vendas|\n",
      "+---+-------------+----------+-------------------+------+------+\n",
      "|  1|  Santa Maria|2020-08-11|   Carminda Pestana| Ativo|    23|\n",
      "|  2|Novo Hamburgo|2020-03-05|    Deolinda Vilela| Ativo|    34|\n",
      "|  3| Porto Alegre|2020-02-05|   Emídio Dornelles| Ativo|    34|\n",
      "|  4| Porto Alegre|2020-02-05|Felisbela Dornelles| Ativo|    36|\n",
      "|  5| Porto Alegre|2020-02-05|     Graça Ornellas| Ativo|    12|\n",
      "|  6| Porto Alegre|2019-01-05|   Matilde Rebouças| Ativo|    22|\n",
      "|  7|  Santa Maria|2019-10-05|    Noêmia   Orriça| Ativo|    45|\n",
      "|  8| Porto Alegre|2020-03-05|      Roque Vásquez| Ativo|    65|\n",
      "|  9| Porto Alegre|2018-05-05|      Uriel Queiroz| Ativo|    54|\n",
      "| 10| Porto Alegre|2020-09-05|   Viviana Sequeira| Ativo|     0|\n",
      "+---+-------------+----------+-------------------+------+------+\n",
      "\n"
     ]
    }
   ],
   "source": [
    "# Importando dados de json\n",
    "js = spark.read.format('json').load('arquivos_criados/vendedoresjson/part-00000-5193e7d5-babe-488e-81f0-6283975bee4d-c000.json')\n",
    "js.show()"
   ]
  },
  {
   "cell_type": "code",
   "execution_count": 28,
   "id": "fd4c35f2",
   "metadata": {},
   "outputs": [
    {
     "data": {
      "text/plain": [
       "StructType([StructField('Id', LongType(), True), StructField('cidade', StringType(), True), StructField('data', StringType(), True), StructField('nome', StringType(), True), StructField('status', StringType(), True), StructField('vendas', LongType(), True)])"
      ]
     },
     "execution_count": 28,
     "metadata": {},
     "output_type": "execute_result"
    }
   ],
   "source": [
    "# Conferindo Schema\n",
    "js.schema"
   ]
  },
  {
   "cell_type": "code",
   "execution_count": 19,
   "id": "0f0b0961",
   "metadata": {},
   "outputs": [
    {
     "name": "stdout",
     "output_type": "stream",
     "text": [
      "+---+-------------------+------+-------------+------+----------+\n",
      "| Id|               nome|status|       cidade|vendas|      data|\n",
      "+---+-------------------+------+-------------+------+----------+\n",
      "|  1|   Carminda Pestana| Ativo|  Santa Maria|    23|2020-08-11|\n",
      "|  2|    Deolinda Vilela| Ativo|Novo Hamburgo|    34|2020-03-05|\n",
      "|  3|   Emídio Dornelles| Ativo| Porto Alegre|    34|2020-02-05|\n",
      "|  4|Felisbela Dornelles| Ativo| Porto Alegre|    36|2020-02-05|\n",
      "|  5|     Graça Ornellas| Ativo| Porto Alegre|    12|2020-02-05|\n",
      "|  6|   Matilde Rebouças| Ativo| Porto Alegre|    22|2019-01-05|\n",
      "|  7|    Noêmia   Orriça| Ativo|  Santa Maria|    45|2019-10-05|\n",
      "|  8|      Roque Vásquez| Ativo| Porto Alegre|    65|2020-03-05|\n",
      "|  9|      Uriel Queiroz| Ativo| Porto Alegre|    54|2018-05-05|\n",
      "| 10|   Viviana Sequeira| Ativo| Porto Alegre|     0|2020-09-05|\n",
      "+---+-------------------+------+-------------+------+----------+\n",
      "\n"
     ]
    }
   ],
   "source": [
    "# Importando dados de orc\n",
    "orc = spark.read.format('orc').load('arquivos_criados/vendedoresorc/part-00000-e098fb27-2214-40a6-a719-7d8039b6b814-c000.snappy.orc')\n",
    "orc.show()"
   ]
  },
  {
   "cell_type": "code",
   "execution_count": 26,
   "id": "5a9fee05",
   "metadata": {},
   "outputs": [
    {
     "data": {
      "text/plain": [
       "StructType([StructField('Id', IntegerType(), True), StructField('nome', StringType(), True), StructField('status', StringType(), True), StructField('cidade', StringType(), True), StructField('vendas', IntegerType(), True), StructField('data', StringType(), True)])"
      ]
     },
     "execution_count": 26,
     "metadata": {},
     "output_type": "execute_result"
    }
   ],
   "source": [
    "# Conferindo Schema\n",
    "orc.schema"
   ]
  },
  {
   "cell_type": "code",
   "execution_count": 21,
   "id": "b774f479",
   "metadata": {},
   "outputs": [
    {
     "name": "stdout",
     "output_type": "stream",
     "text": [
      "+---+-------------------+-----+-------------+---+----------+\n",
      "|_c0|                _c1|  _c2|          _c3|_c4|       _c5|\n",
      "+---+-------------------+-----+-------------+---+----------+\n",
      "|  1|   Carminda Pestana|Ativo|  Santa Maria| 23|2020-08-11|\n",
      "|  2|    Deolinda Vilela|Ativo|Novo Hamburgo| 34|2020-03-05|\n",
      "|  3|   Emídio Dornelles|Ativo| Porto Alegre| 34|2020-02-05|\n",
      "|  4|Felisbela Dornelles|Ativo| Porto Alegre| 36|2020-02-05|\n",
      "|  5|     Graça Ornellas|Ativo| Porto Alegre| 12|2020-02-05|\n",
      "|  6|   Matilde Rebouças|Ativo| Porto Alegre| 22|2019-01-05|\n",
      "|  7|    Noêmia   Orriça|Ativo|  Santa Maria| 45|2019-10-05|\n",
      "|  8|      Roque Vásquez|Ativo| Porto Alegre| 65|2020-03-05|\n",
      "|  9|      Uriel Queiroz|Ativo| Porto Alegre| 54|2018-05-05|\n",
      "| 10|   Viviana Sequeira|Ativo| Porto Alegre|  0|2020-09-05|\n",
      "+---+-------------------+-----+-------------+---+----------+\n",
      "\n"
     ]
    }
   ],
   "source": [
    "# Importando dados de csv\n",
    "cs = spark.read.format('csv').load('arquivos_criados/vendedorescsv/part-00000-22e30545-24b9-45c1-8200-9d4bea1ea46a-c000.csv')\n",
    "cs.show()"
   ]
  },
  {
   "cell_type": "code",
   "execution_count": 27,
   "id": "56b2fabb",
   "metadata": {},
   "outputs": [
    {
     "data": {
      "text/plain": [
       "StructType([StructField('_c0', StringType(), True), StructField('_c1', StringType(), True), StructField('_c2', StringType(), True), StructField('_c3', StringType(), True), StructField('_c4', StringType(), True), StructField('_c5', StringType(), True)])"
      ]
     },
     "execution_count": 27,
     "metadata": {},
     "output_type": "execute_result"
    }
   ],
   "source": [
    "# Conferindo Schema\n",
    "cs.schema"
   ]
  },
  {
   "cell_type": "code",
   "execution_count": null,
   "id": "b63e05bd",
   "metadata": {},
   "outputs": [],
   "source": [
    "# A importacao trouxe tudo como Str"
   ]
  },
  {
   "cell_type": "code",
   "execution_count": 29,
   "id": "c58dfa29",
   "metadata": {},
   "outputs": [
    {
     "name": "stdout",
     "output_type": "stream",
     "text": [
      "+---+-------------------+------+-------------+------+----------+\n",
      "| Id|               nome|status|       cidade|vendas|      data|\n",
      "+---+-------------------+------+-------------+------+----------+\n",
      "|  1|   Carminda Pestana| Ativo|  Santa Maria|    23|2020-08-11|\n",
      "|  2|    Deolinda Vilela| Ativo|Novo Hamburgo|    34|2020-03-05|\n",
      "|  3|   Emídio Dornelles| Ativo| Porto Alegre|    34|2020-02-05|\n",
      "|  4|Felisbela Dornelles| Ativo| Porto Alegre|    36|2020-02-05|\n",
      "|  5|     Graça Ornellas| Ativo| Porto Alegre|    12|2020-02-05|\n",
      "|  6|   Matilde Rebouças| Ativo| Porto Alegre|    22|2019-01-05|\n",
      "|  7|    Noêmia   Orriça| Ativo|  Santa Maria|    45|2019-10-05|\n",
      "|  8|      Roque Vásquez| Ativo| Porto Alegre|    65|2020-03-05|\n",
      "|  9|      Uriel Queiroz| Ativo| Porto Alegre|    54|2018-05-05|\n",
      "| 10|   Viviana Sequeira| Ativo| Porto Alegre|     0|2020-09-05|\n",
      "+---+-------------------+------+-------------+------+----------+\n",
      "\n"
     ]
    }
   ],
   "source": [
    "# Importando novamente o csv com o schema definido\n",
    "schema = \" Id INT, nome STRING, status STRING, cidade STRING, vendas INT, data STRING\"\n",
    "cs = spark.read.format('csv').load('arquivos_criados/vendedorescsv/part-00000-22e30545-24b9-45c1-8200-9d4bea1ea46a-c000.csv', schema=schema)\n",
    "cs.show()\n"
   ]
  },
  {
   "cell_type": "code",
   "execution_count": 30,
   "id": "486732cb",
   "metadata": {},
   "outputs": [
    {
     "data": {
      "text/plain": [
       "StructType([StructField('Id', IntegerType(), True), StructField('nome', StringType(), True), StructField('status', StringType(), True), StructField('cidade', StringType(), True), StructField('vendas', IntegerType(), True), StructField('data', StringType(), True)])"
      ]
     },
     "execution_count": 30,
     "metadata": {},
     "output_type": "execute_result"
    }
   ],
   "source": [
    "# Conferindo Schema\n",
    "cs.schema"
   ]
  }
 ],
 "metadata": {
  "kernelspec": {
   "display_name": "Python 3 (ipykernel)",
   "language": "python",
   "name": "python3"
  },
  "language_info": {
   "codemirror_mode": {
    "name": "ipython",
    "version": 3
   },
   "file_extension": ".py",
   "mimetype": "text/x-python",
   "name": "python",
   "nbconvert_exporter": "python",
   "pygments_lexer": "ipython3",
   "version": "3.10.6"
  }
 },
 "nbformat": 4,
 "nbformat_minor": 5
}
