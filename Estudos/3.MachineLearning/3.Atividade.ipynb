{
 "cells": [
  {
   "cell_type": "markdown",
   "id": "d88cde51",
   "metadata": {},
   "source": [
    "## Atividade\n",
    "\n",
    "Criar e aplicar um modelo de classificacao Naive Bayes para o arquivo *iris.csv*."
   ]
  },
  {
   "cell_type": "code",
   "execution_count": null,
   "id": "a3a5a13b",
   "metadata": {},
   "outputs": [],
   "source": []
  }
 ],
 "metadata": {
  "kernelspec": {
   "display_name": "Python 3 (ipykernel)",
   "language": "python",
   "name": "python3"
  },
  "language_info": {
   "codemirror_mode": {
    "name": "ipython",
    "version": 3
   },
   "file_extension": ".py",
   "mimetype": "text/x-python",
   "name": "python",
   "nbconvert_exporter": "python",
   "pygments_lexer": "ipython3",
   "version": "3.10.6"
  }
 },
 "nbformat": 4,
 "nbformat_minor": 5
}
