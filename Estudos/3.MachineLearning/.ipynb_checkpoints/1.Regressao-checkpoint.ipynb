{
 "cells": [
  {
   "cell_type": "code",
   "execution_count": 3,
   "id": "03fabf3f",
   "metadata": {},
   "outputs": [],
   "source": [
    "# Carregando libs e iniciando Session\n",
    "from pyspark.sql import SparkSession, functions as func\n",
    "from pyspark.sql.types import *\n",
    "from pyspark.ml.regression import LinearRegression, RandomForestRegressor\n",
    "from pyspark.ml.evaluation import RegressionEvaluator\n",
    "from pyspark.ml.feature import VectorAssembler\n",
    "\n",
    "spark = SparkSession.builder.getOrCreate()"
   ]
  },
  {
   "cell_type": "code",
   "execution_count": 5,
   "id": "bd94d792",
   "metadata": {},
   "outputs": [
    {
     "name": "stderr",
     "output_type": "stream",
     "text": [
      "                                                                                \r"
     ]
    },
    {
     "name": "stdout",
     "output_type": "stream",
     "text": [
      "+-------+---------+-----------+---------------+----+-----+---------+-----------+-------+-----------+---+\n",
      "|Consumo|Cilindros|Cilindradas|RelEixoTraseiro|Peso|Tempo|TipoMotor|Transmissao|Marchas|Carburadors| HP|\n",
      "+-------+---------+-----------+---------------+----+-----+---------+-----------+-------+-----------+---+\n",
      "|     21|        6|        160|             39| 262| 1646|        0|          1|      4|          4|110|\n",
      "|     21|        6|        160|             39|2875| 1702|        0|          1|      4|          4|110|\n",
      "|    228|        4|        108|            385| 232| 1861|        1|          1|      4|          1| 93|\n",
      "|    214|        6|        258|            308|3215| 1944|        1|          0|      3|          1|110|\n",
      "|    187|        8|        360|            315| 344| 1702|        0|          0|      3|          2|175|\n",
      "|    181|        6|        225|            276| 346| 2022|        1|          0|      3|          1|105|\n",
      "|    143|        8|        360|            321| 357| 1584|        0|          0|      3|          4|245|\n",
      "|    244|        4|       1467|            369| 319|   20|        1|          0|      4|          2| 62|\n",
      "|    228|        4|       1408|            392| 315|  229|        1|          0|      4|          2| 95|\n",
      "|    192|        6|       1676|            392| 344|  183|        1|          0|      4|          4|123|\n",
      "|    178|        6|       1676|            392| 344|  189|        1|          0|      4|          4|123|\n",
      "|    164|        8|       2758|            307| 407|  174|        0|          0|      3|          3|180|\n",
      "|    173|        8|       2758|            307| 373|  176|        0|          0|      3|          3|180|\n",
      "|    152|        8|       2758|            307| 378|   18|        0|          0|      3|          3|180|\n",
      "|    104|        8|        472|            293| 525| 1798|        0|          0|      3|          4|205|\n",
      "|    104|        8|        460|              3|5424| 1782|        0|          0|      3|          4|215|\n",
      "|    147|        8|        440|            323|5345| 1742|        0|          0|      3|          4|230|\n",
      "|    324|        4|        787|            408|  22| 1947|        1|          1|      4|          1| 66|\n",
      "|    304|        4|        757|            493|1615| 1852|        1|          1|      4|          2| 52|\n",
      "|    339|        4|        711|            422|1835|  199|        1|          1|      4|          1| 65|\n",
      "+-------+---------+-----------+---------------+----+-----+---------+-----------+-------+-----------+---+\n",
      "only showing top 20 rows\n",
      "\n"
     ]
    }
   ],
   "source": [
    "# Importando dados\n",
    "carros_t = spark.read.csv('../arquivos/Carros.csv', inferSchema=True, header=True, sep=';')\n",
    "carros_t.show()"
   ]
  },
  {
   "cell_type": "markdown",
   "id": "144994e1",
   "metadata": {},
   "source": [
    "A vari'avel dependente 'e consumo (HP)"
   ]
  },
  {
   "cell_type": "code",
   "execution_count": 16,
   "id": "084ec7e9",
   "metadata": {},
   "outputs": [
    {
     "name": "stdout",
     "output_type": "stream",
     "text": [
      "+-------+---------+-----------+---+\n",
      "|Consumo|Cilindros|Cilindradas| HP|\n",
      "+-------+---------+-----------+---+\n",
      "|     21|        6|        160|110|\n",
      "|     21|        6|        160|110|\n",
      "|    228|        4|        108| 93|\n",
      "|    214|        6|        258|110|\n",
      "|    187|        8|        360|175|\n",
      "+-------+---------+-----------+---+\n",
      "only showing top 5 rows\n",
      "\n"
     ]
    }
   ],
   "source": [
    "# Separando variaveis relevantes\n",
    "carros = carros_t.select('Consumo','Cilindros','Cilindradas','HP')\n",
    "carros.show(5)"
   ]
  },
  {
   "cell_type": "code",
   "execution_count": 17,
   "id": "c9754efe",
   "metadata": {},
   "outputs": [],
   "source": [
    "# Criando um vetor com as variaveis preditoras\n",
    "vetor_preditoras = VectorAssembler(inputCols=[('Consumo'),('Cilindros'),('Cilindradas')], outputCol=('Preditoras'))"
   ]
  },
  {
   "cell_type": "code",
   "execution_count": 18,
   "id": "cc4c3aab",
   "metadata": {},
   "outputs": [
    {
     "name": "stdout",
     "output_type": "stream",
     "text": [
      "+-------+---------+-----------+---+-----------------+\n",
      "|Consumo|Cilindros|Cilindradas| HP|       Preditoras|\n",
      "+-------+---------+-----------+---+-----------------+\n",
      "|     21|        6|        160|110| [21.0,6.0,160.0]|\n",
      "|     21|        6|        160|110| [21.0,6.0,160.0]|\n",
      "|    228|        4|        108| 93|[228.0,4.0,108.0]|\n",
      "|    214|        6|        258|110|[214.0,6.0,258.0]|\n",
      "|    187|        8|        360|175|[187.0,8.0,360.0]|\n",
      "+-------+---------+-----------+---+-----------------+\n",
      "only showing top 5 rows\n",
      "\n"
     ]
    }
   ],
   "source": [
    "# Adicionando o vetor\n",
    "carros = vetor_preditoras.transform(carros)\n",
    "carros.show(5)"
   ]
  },
  {
   "cell_type": "code",
   "execution_count": 23,
   "id": "c4597a09",
   "metadata": {},
   "outputs": [],
   "source": [
    "# Divisao entre teste e treino\n",
    "carros_treino, carros_teste = carros.randomSplit([0.7, 0.3])"
   ]
  },
  {
   "cell_type": "code",
   "execution_count": 27,
   "id": "c7cd2e1a",
   "metadata": {},
   "outputs": [
    {
     "name": "stdout",
     "output_type": "stream",
     "text": [
      "23/02/10 07:25:15 WARN Instrumentation: [1b900761] regParam is zero, which might cause numerical instability and overfitting.\n"
     ]
    },
    {
     "name": "stderr",
     "output_type": "stream",
     "text": [
      "\r",
      "[Stage 20:>                                                         (0 + 1) / 1]\r",
      "\r",
      "                                                                                \r"
     ]
    }
   ],
   "source": [
    "# Criando o modelo de Regressao linear\n",
    "regressor = LinearRegression(featuresCol = 'Preditoras', labelCol = 'HP')\n",
    "modelo = regressor.fit(carros_treino)"
   ]
  },
  {
   "cell_type": "code",
   "execution_count": 46,
   "id": "270b7f92",
   "metadata": {},
   "outputs": [
    {
     "name": "stdout",
     "output_type": "stream",
     "text": [
      "+-------+---------+-----------+---+------------------+------------------+\n",
      "|Consumo|Cilindros|Cilindradas| HP|        Preditoras|        prediction|\n",
      "+-------+---------+-----------+---+------------------+------------------+\n",
      "|     15|        8|        301|335|  [15.0,8.0,301.0]|199.87491675613677|\n",
      "|    152|        8|       2758|180|[152.0,8.0,2758.0]| 190.6682678895501|\n",
      "|    155|        8|        318|150| [155.0,8.0,318.0]|201.86067505493907|\n",
      "|    158|        8|        351|264| [158.0,8.0,351.0]|201.75411670293704|\n",
      "|    173|        8|       2758|180|[173.0,8.0,2758.0]|190.97778240754846|\n",
      "+-------+---------+-----------+---+------------------+------------------+\n",
      "only showing top 5 rows\n",
      "\n"
     ]
    }
   ],
   "source": [
    "# Obtendo previsoes\n",
    "previsao = modelo.transform(carros_teste)\n",
    "previsao.show(5)"
   ]
  },
  {
   "cell_type": "code",
   "execution_count": 47,
   "id": "73854f7e",
   "metadata": {},
   "outputs": [
    {
     "name": "stdout",
     "output_type": "stream",
     "text": [
      "53.527641650915655\n"
     ]
    }
   ],
   "source": [
    "# Avaliacao das previsoes\n",
    "avaliador_rl = RegressionEvaluator(predictionCol='prediction', labelCol='HP', metricName='rmse')\n",
    "rmse = avaliador_rl.evaluate(previsao)\n",
    "print(rmse)"
   ]
  },
  {
   "cell_type": "code",
   "execution_count": 61,
   "id": "413055b4",
   "metadata": {},
   "outputs": [
    {
     "name": "stdout",
     "output_type": "stream",
     "text": [
      "23/02/10 07:41:49 WARN DecisionTreeMetadata: DecisionTree reducing maxBins from 32 to 22 (= number of training instances)\n"
     ]
    }
   ],
   "source": [
    "# Criando o modelo de Regressao Random Forest\n",
    "regressor2 = RandomForestRegressor(featuresCol = 'Preditoras', labelCol = 'HP')\n",
    "modelo2 = regressor2.fit(carros_treino)"
   ]
  },
  {
   "cell_type": "code",
   "execution_count": 62,
   "id": "3e1bdebb",
   "metadata": {},
   "outputs": [
    {
     "name": "stderr",
     "output_type": "stream",
     "text": [
      "WARNING: An illegal reflective access operation has occurred\n",
      "WARNING: Illegal reflective access by org.apache.spark.util.SizeEstimator$ (file:/opt/spark/jars/spark-core_2.12-3.3.1.jar) to field java.nio.charset.Charset.name\n",
      "WARNING: Please consider reporting this to the maintainers of org.apache.spark.util.SizeEstimator$\n",
      "WARNING: Use --illegal-access=warn to enable warnings of further illegal reflective access operations\n",
      "WARNING: All illegal access operations will be denied in a future release\n"
     ]
    },
    {
     "name": "stdout",
     "output_type": "stream",
     "text": [
      "+-------+---------+-----------+---+------------------+-----------------+\n",
      "|Consumo|Cilindros|Cilindradas| HP|        Preditoras|       prediction|\n",
      "+-------+---------+-----------+---+------------------+-----------------+\n",
      "|     15|        8|        301|335|  [15.0,8.0,301.0]|188.4892857142857|\n",
      "|    152|        8|       2758|180|[152.0,8.0,2758.0]|          165.285|\n",
      "|    155|        8|        318|150| [155.0,8.0,318.0]|        171.70625|\n",
      "|    158|        8|        351|264| [158.0,8.0,351.0]|        184.20625|\n",
      "|    173|        8|       2758|180|[173.0,8.0,2758.0]|          161.035|\n",
      "+-------+---------+-----------+---+------------------+-----------------+\n",
      "only showing top 5 rows\n",
      "\n"
     ]
    }
   ],
   "source": [
    "# Obtendo previsoes\n",
    "previsao2 = modelo2.transform(carros_teste)\n",
    "previsao2.show(5)"
   ]
  },
  {
   "cell_type": "code",
   "execution_count": 66,
   "id": "d88ef1a9",
   "metadata": {},
   "outputs": [
    {
     "name": "stdout",
     "output_type": "stream",
     "text": [
      "53.527641650915655\n"
     ]
    }
   ],
   "source": [
    "# Avaliacao das previsoes\n",
    "avaliador_rf = RegressionEvaluator(predictionCol='prediction', labelCol='HP', metricName='rmse')\n",
    "rmse2 = avaliador_rf.evaluate(previsao2)\n",
    "print(rmse)"
   ]
  }
 ],
 "metadata": {
  "kernelspec": {
   "display_name": "Python 3 (ipykernel)",
   "language": "python",
   "name": "python3"
  },
  "language_info": {
   "codemirror_mode": {
    "name": "ipython",
    "version": 3
   },
   "file_extension": ".py",
   "mimetype": "text/x-python",
   "name": "python",
   "nbconvert_exporter": "python",
   "pygments_lexer": "ipython3",
   "version": "3.10.6"
  }
 },
 "nbformat": 4,
 "nbformat_minor": 5
}
