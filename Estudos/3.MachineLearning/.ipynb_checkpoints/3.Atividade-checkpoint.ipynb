{
 "cells": [
  {
   "cell_type": "markdown",
   "id": "9ec32376",
   "metadata": {},
   "source": [
    "## Atividade\n",
    "\n",
    "Criar e aplicar um modelo de classificacao Naive Bayes para o arquivo *iris.csv*."
   ]
  },
  {
   "cell_type": "code",
   "execution_count": 23,
   "id": "d744d8c6",
   "metadata": {},
   "outputs": [],
   "source": [
    "# Carregando libs e iniciando Session\n",
    "from pyspark.sql import SparkSession, functions as func\n",
    "from pyspark.sql.types import *\n",
    "from pyspark.ml.classification import NaiveBayes\n",
    "from pyspark.ml.evaluation import MulticlassClassificationEvaluator\n",
    "from pyspark.ml.feature import RFormula\n",
    "\n",
    "spark = SparkSession.builder.getOrCreate()"
   ]
  },
  {
   "cell_type": "code",
   "execution_count": 24,
   "id": "257d5438",
   "metadata": {},
   "outputs": [
    {
     "name": "stdout",
     "output_type": "stream",
     "text": [
      "+-----------+----------+-----------+----------+-----------+\n",
      "|sepallength|sepalwidth|petallength|petalwidth|      class|\n",
      "+-----------+----------+-----------+----------+-----------+\n",
      "|        5.1|       3.5|        1.4|       0.2|Iris-setosa|\n",
      "|        4.9|       3.0|        1.4|       0.2|Iris-setosa|\n",
      "|        4.7|       3.2|        1.3|       0.2|Iris-setosa|\n",
      "+-----------+----------+-----------+----------+-----------+\n",
      "only showing top 3 rows\n",
      "\n"
     ]
    }
   ],
   "source": [
    "# Importando dados\n",
    "iris = spark.read.csv('../arquivos/iris.csv', inferSchema=True, header=True)\n",
    "iris.show(3)"
   ]
  },
  {
   "cell_type": "code",
   "execution_count": 25,
   "id": "2b3b7cef",
   "metadata": {},
   "outputs": [
    {
     "name": "stdout",
     "output_type": "stream",
     "text": [
      "+-----------------+-----+\n",
      "|         features|label|\n",
      "+-----------------+-----+\n",
      "|[5.1,3.5,1.4,0.2]|  0.0|\n",
      "|[4.9,3.0,1.4,0.2]|  0.0|\n",
      "|[4.7,3.2,1.3,0.2]|  0.0|\n",
      "|[4.6,3.1,1.5,0.2]|  0.0|\n",
      "|[5.0,3.6,1.4,0.2]|  0.0|\n",
      "+-----------------+-----+\n",
      "only showing top 5 rows\n",
      "\n"
     ]
    }
   ],
   "source": [
    "# Transformando os dados\n",
    "form = RFormula(formula=\"class ~ .\", featuresCol=\"features\", labelCol=\"label\", handleInvalid=\"skip\")\n",
    "iris_t = form.fit(iris).transform(iris)\n",
    "iris_t.select('features','label').show(5)"
   ]
  },
  {
   "cell_type": "code",
   "execution_count": 26,
   "id": "78218da4",
   "metadata": {},
   "outputs": [
    {
     "name": "stdout",
     "output_type": "stream",
     "text": [
      "105\n",
      "45\n"
     ]
    }
   ],
   "source": [
    "# Separando a base em treino e teste\n",
    "iris_treino, iris_teste = iris_t.randomSplit([0.7, 0.3])\n",
    "print(iris_treino.count())\n",
    "print(iris_teste.count())"
   ]
  },
  {
   "cell_type": "code",
   "execution_count": 27,
   "id": "5a038523",
   "metadata": {},
   "outputs": [
    {
     "name": "stdout",
     "output_type": "stream",
     "text": [
      "+-----+-----+\n",
      "|label|count|\n",
      "+-----+-----+\n",
      "|  0.0|   32|\n",
      "|  1.0|   40|\n",
      "|  2.0|   33|\n",
      "+-----+-----+\n",
      "\n",
      "+-----+-----+\n",
      "|label|count|\n",
      "+-----+-----+\n",
      "|  0.0|   18|\n",
      "|  1.0|   10|\n",
      "|  2.0|   17|\n",
      "+-----+-----+\n",
      "\n"
     ]
    }
   ],
   "source": [
    "# Verificando separacao dos labels (labels concentrados em teste ou treino podem ser um problema para o modelo)\n",
    "iris_treino.groupBy('label').count().show()\n",
    "iris_teste.groupBy('label').count().show()"
   ]
  },
  {
   "cell_type": "code",
   "execution_count": 28,
   "id": "cb194a2e",
   "metadata": {},
   "outputs": [],
   "source": [
    "# Criando o modelo\n",
    "nbc = NaiveBayes(labelCol='label', featuresCol='features')\n",
    "modelo = nbc.fit(iris_treino)"
   ]
  },
  {
   "cell_type": "code",
   "execution_count": 29,
   "id": "718b33da",
   "metadata": {},
   "outputs": [
    {
     "name": "stdout",
     "output_type": "stream",
     "text": [
      "+----------+-----+\n",
      "|prediction|label|\n",
      "+----------+-----+\n",
      "|       0.0|  0.0|\n",
      "|       0.0|  0.0|\n",
      "|       0.0|  0.0|\n",
      "|       0.0|  0.0|\n",
      "|       0.0|  0.0|\n",
      "+----------+-----+\n",
      "only showing top 5 rows\n",
      "\n"
     ]
    }
   ],
   "source": [
    "# Obtendo previsoes\n",
    "previsao = modelo.transform(iris_teste)\n",
    "previsao.select('prediction', 'label').show(5)"
   ]
  },
  {
   "cell_type": "code",
   "execution_count": 30,
   "id": "f5be01f9",
   "metadata": {},
   "outputs": [
    {
     "name": "stdout",
     "output_type": "stream",
     "text": [
      "0.6444444444444445\n"
     ]
    }
   ],
   "source": [
    "# Avaliando o modelo\n",
    "avaliador = MulticlassClassificationEvaluator(predictionCol='prediction', labelCol='label', metricName='accuracy')\n",
    "print(avaliador.evaluate(previsao))"
   ]
  }
 ],
 "metadata": {
  "kernelspec": {
   "display_name": "Python 3 (ipykernel)",
   "language": "python",
   "name": "python3"
  },
  "language_info": {
   "codemirror_mode": {
    "name": "ipython",
    "version": 3
   },
   "file_extension": ".py",
   "mimetype": "text/x-python",
   "name": "python",
   "nbconvert_exporter": "python",
   "pygments_lexer": "ipython3",
   "version": "3.10.6"
  }
 },
 "nbformat": 4,
 "nbformat_minor": 5
}
