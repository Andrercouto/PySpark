{
 "cells": [
  {
   "cell_type": "code",
   "execution_count": 4,
   "id": "c97d44ca",
   "metadata": {},
   "outputs": [],
   "source": [
    "# Carregando libs e iniciando Session\n",
    "from pyspark.sql import SparkSession, functions as func\n",
    "from pyspark.sql.types import *\n",
    "from pyspark.ml.classification import DecisionTreeClassifier\n",
    "from pyspark.ml.evaluation import BinaryClassificationEvaluator\n",
    "from pyspark.ml.feature import RFormula\n",
    "\n",
    "spark = SparkSession.builder.getOrCreate()"
   ]
  },
  {
   "cell_type": "code",
   "execution_count": 5,
   "id": "9aa740d9",
   "metadata": {},
   "outputs": [
    {
     "name": "stdout",
     "output_type": "stream",
     "text": [
      "+-----------+---------+------+---+------+--------+-------------+---------+--------------+---------------+------+\n",
      "|CreditScore|Geography|Gender|Age|Tenure| Balance|NumOfProducts|HasCrCard|IsActiveMember|EstimatedSalary|Exited|\n",
      "+-----------+---------+------+---+------+--------+-------------+---------+--------------+---------------+------+\n",
      "|        619|   France|Female| 42|     2|       0|            1|        1|             1|       10134888|     1|\n",
      "|        608|    Spain|Female| 41|     1| 8380786|            1|        0|             1|       11254258|     0|\n",
      "|        502|   France|Female| 42|     8| 1596608|            3|        1|             0|       11393157|     1|\n",
      "|        699|   France|Female| 39|     1|       0|            2|        0|             0|        9382663|     0|\n",
      "|        850|    Spain|Female| 43|     2|12551082|            1|        1|             1|         790841|     0|\n",
      "|        645|    Spain|  Male| 44|     8|11375578|            2|        1|             0|       14975671|     1|\n",
      "|        822|   France|  Male| 50|     7|       0|            2|        1|             1|         100628|     0|\n",
      "|        376|  Germany|Female| 29|     4|11504674|            4|        1|             0|       11934688|     1|\n",
      "|        501|   France|  Male| 44|     4|14205107|            2|        0|             1|         749405|     0|\n",
      "|        684|   France|  Male| 27|     2|13460388|            1|        1|             1|        7172573|     0|\n",
      "|        528|   France|  Male| 31|     6|10201672|            2|        0|             0|        8018112|     0|\n",
      "|        497|    Spain|  Male| 24|     3|       0|            2|        1|             0|        7639001|     0|\n",
      "|        476|   France|Female| 34|    10|       0|            2|        1|             0|        2626098|     0|\n",
      "|        549|   France|Female| 25|     5|       0|            2|        0|             0|       19085779|     0|\n",
      "|        635|    Spain|Female| 35|     7|       0|            2|        1|             1|        6595165|     0|\n",
      "|        616|  Germany|  Male| 45|     3|14312941|            2|        0|             1|        6432726|     0|\n",
      "|        653|  Germany|  Male| 58|     1|13260288|            1|        1|             0|         509767|     1|\n",
      "|        549|    Spain|Female| 24|     9|       0|            2|        1|             1|        1440641|     0|\n",
      "|        587|    Spain|  Male| 45|     6|       0|            1|        0|             0|       15868481|     0|\n",
      "|        726|   France|Female| 24|     6|       0|            2|        1|             1|        5472403|     0|\n",
      "+-----------+---------+------+---+------+--------+-------------+---------+--------------+---------------+------+\n",
      "only showing top 20 rows\n",
      "\n"
     ]
    }
   ],
   "source": [
    "# Importando dados\n",
    "churn_t = spark.read.csv('../arquivos/Churn.csv', inferSchema=True, header=True, sep=';')\n",
    "churn_t.show()"
   ]
  },
  {
   "cell_type": "code",
   "execution_count": null,
   "id": "c10ea489",
   "metadata": {},
   "outputs": [],
   "source": []
  }
 ],
 "metadata": {
  "kernelspec": {
   "display_name": "Python 3 (ipykernel)",
   "language": "python",
   "name": "python3"
  },
  "language_info": {
   "codemirror_mode": {
    "name": "ipython",
    "version": 3
   },
   "file_extension": ".py",
   "mimetype": "text/x-python",
   "name": "python",
   "nbconvert_exporter": "python",
   "pygments_lexer": "ipython3",
   "version": "3.10.6"
  }
 },
 "nbformat": 4,
 "nbformat_minor": 5
}
