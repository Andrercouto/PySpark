{
 "cells": [
  {
   "cell_type": "code",
   "execution_count": 4,
   "id": "10375be4",
   "metadata": {},
   "outputs": [],
   "source": [
    "# Carregando libs e iniciando Session\n",
    "from pyspark.sql import SparkSession, functions as func\n",
    "from pyspark.sql.types import *\n",
    "from pyspark.sql.functions import *\n",
    "\n",
    "spark = SparkSession.builder.master(\"local[1]\").appName(\"Testing\").getOrCreate()"
   ]
  },
  {
   "cell_type": "code",
   "execution_count": 5,
   "id": "73de0244",
   "metadata": {},
   "outputs": [
    {
     "name": "stdout",
     "output_type": "stream",
     "text": [
      "+---+-------------------+------+-------------+------+----------+\n",
      "| Id|               nome|status|       cidade|vendas|      data|\n",
      "+---+-------------------+------+-------------+------+----------+\n",
      "|  1|   Carminda Pestana| Ativo|  Santa Maria|    23|2020-08-11|\n",
      "|  2|    Deolinda Vilela| Ativo|Novo Hamburgo|    34|2020-03-05|\n",
      "|  3|   Emídio Dornelles| Ativo| Porto Alegre|    34|2020-02-05|\n",
      "|  4|Felisbela Dornelles| Ativo| Porto Alegre|    36|2020-02-05|\n",
      "|  5|     Graça Ornellas| Ativo| Porto Alegre|    12|2020-02-05|\n",
      "|  6|   Matilde Rebouças| Ativo| Porto Alegre|    22|2019-01-05|\n",
      "|  7|    Noêmia   Orriça| Ativo|  Santa Maria|    45|2019-10-05|\n",
      "|  8|      Roque Vásquez| Ativo| Porto Alegre|    65|2020-03-05|\n",
      "|  9|      Uriel Queiroz| Ativo| Porto Alegre|    54|2018-05-05|\n",
      "| 10|   Viviana Sequeira| Ativo| Porto Alegre|     0|2020-09-05|\n",
      "+---+-------------------+------+-------------+------+----------+\n",
      "\n"
     ]
    }
   ],
   "source": [
    "# Importando dados com definicao de schema\n",
    "schema = \" Id INT, nome STRING, status STRING, cidade STRING, vendas INT, data STRING\"\n",
    "vend = spark.read.csv('arquivos/despachantes.csv', header=False,schema=schema)\n",
    "vend.show()"
   ]
  },
  {
   "cell_type": "code",
   "execution_count": 123,
   "id": "dcb10b62",
   "metadata": {},
   "outputs": [
    {
     "name": "stdout",
     "output_type": "stream",
     "text": [
      "+---+-------------------+-----+-------------+---+-------------------+\n",
      "|_c0|                _c1|  _c2|          _c3|_c4|                _c5|\n",
      "+---+-------------------+-----+-------------+---+-------------------+\n",
      "|  1|   Carminda Pestana|Ativo|  Santa Maria| 23|2020-08-11 00:00:00|\n",
      "|  2|    Deolinda Vilela|Ativo|Novo Hamburgo| 34|2020-03-05 00:00:00|\n",
      "|  3|   Emídio Dornelles|Ativo| Porto Alegre| 34|2020-02-05 00:00:00|\n",
      "|  4|Felisbela Dornelles|Ativo| Porto Alegre| 36|2020-02-05 00:00:00|\n",
      "|  5|     Graça Ornellas|Ativo| Porto Alegre| 12|2020-02-05 00:00:00|\n",
      "|  6|   Matilde Rebouças|Ativo| Porto Alegre| 22|2019-01-05 00:00:00|\n",
      "|  7|    Noêmia   Orriça|Ativo|  Santa Maria| 45|2019-10-05 00:00:00|\n",
      "|  8|      Roque Vásquez|Ativo| Porto Alegre| 65|2020-03-05 00:00:00|\n",
      "|  9|      Uriel Queiroz|Ativo| Porto Alegre| 54|2018-05-05 00:00:00|\n",
      "| 10|   Viviana Sequeira|Ativo| Porto Alegre|  0|2020-09-05 00:00:00|\n",
      "+---+-------------------+-----+-------------+---+-------------------+\n",
      "\n"
     ]
    }
   ],
   "source": [
    "# Importando dados com load e sem definicao do schema\n",
    "vend2 = spark.read.load('arquivos/despachantes.csv', header=False, format='csv', sep=',', inferSchema=True)\n",
    "vend2.show()"
   ]
  },
  {
   "cell_type": "code",
   "execution_count": 124,
   "id": "e4814b43",
   "metadata": {},
   "outputs": [
    {
     "name": "stdout",
     "output_type": "stream",
     "text": [
      "Para a coluna 0, o type inferido foi igual ao definido.\n",
      "\n",
      "Para a coluna 1, o type inferido foi igual ao definido.\n",
      "\n",
      "Para a coluna 2, o type inferido foi igual ao definido.\n",
      "\n",
      "Para a coluna 3, o type inferido foi igual ao definido.\n",
      "\n",
      "Para a coluna 4, o type inferido foi igual ao definido.\n",
      "\n",
      "O type da coluna 5 definido foi diferente do inferido:\n",
      "Definido StringType()\n",
      "Inferido TimestampType()\n"
     ]
    }
   ],
   "source": [
    "# Conferindo Schema inferido\n",
    "for i in range(0,len(vend2.schema)):\n",
    "    if vend2.schema.fields[i].dataType == vend.schema.fields[i].dataType:\n",
    "        print(f'Para a coluna {i}, o type inferido foi igual ao definido.\\n')\n",
    "    else:\n",
    "        print(f'O type da coluna {i} definido foi diferente do inferido:')\n",
    "        print(f'Definido {vend.schema.fields[i].dataType}')\n",
    "        print(f'Inferido {vend2.schema.fields[i].dataType}')"
   ]
  },
  {
   "cell_type": "code",
   "execution_count": 6,
   "id": "a153cec1",
   "metadata": {},
   "outputs": [
    {
     "data": {
      "text/plain": [
       "[Row(Id=1, nome='Carminda Pestana', status='Ativo', cidade='Santa Maria', vendas=23, data='2020-08-11')]"
      ]
     },
     "execution_count": 6,
     "metadata": {},
     "output_type": "execute_result"
    }
   ],
   "source": [
    "# Dados em forma de lista\n",
    "vend.take(1)"
   ]
  },
  {
   "cell_type": "code",
   "execution_count": 7,
   "id": "32234c3e",
   "metadata": {},
   "outputs": [
    {
     "data": {
      "text/plain": [
       "[Row(Id=1, nome='Carminda Pestana', status='Ativo', cidade='Santa Maria', vendas=23, data='2020-08-11'),\n",
       " Row(Id=2, nome='Deolinda Vilela', status='Ativo', cidade='Novo Hamburgo', vendas=34, data='2020-03-05'),\n",
       " Row(Id=3, nome='Emídio Dornelles', status='Ativo', cidade='Porto Alegre', vendas=34, data='2020-02-05'),\n",
       " Row(Id=4, nome='Felisbela Dornelles', status='Ativo', cidade='Porto Alegre', vendas=36, data='2020-02-05'),\n",
       " Row(Id=5, nome='Graça Ornellas', status='Ativo', cidade='Porto Alegre', vendas=12, data='2020-02-05'),\n",
       " Row(Id=6, nome='Matilde Rebouças', status='Ativo', cidade='Porto Alegre', vendas=22, data='2019-01-05'),\n",
       " Row(Id=7, nome='Noêmia   Orriça', status='Ativo', cidade='Santa Maria', vendas=45, data='2019-10-05'),\n",
       " Row(Id=8, nome='Roque Vásquez', status='Ativo', cidade='Porto Alegre', vendas=65, data='2020-03-05'),\n",
       " Row(Id=9, nome='Uriel Queiroz', status='Ativo', cidade='Porto Alegre', vendas=54, data='2018-05-05'),\n",
       " Row(Id=10, nome='Viviana Sequeira', status='Ativo', cidade='Porto Alegre', vendas=0, data='2020-09-05')]"
      ]
     },
     "execution_count": 7,
     "metadata": {},
     "output_type": "execute_result"
    }
   ],
   "source": [
    "# Todos os dados em forma de lista\n",
    "vend.collect()"
   ]
  },
  {
   "cell_type": "code",
   "execution_count": 11,
   "id": "b5d2f1c0",
   "metadata": {},
   "outputs": [
    {
     "data": {
      "text/plain": [
       "10"
      ]
     },
     "execution_count": 11,
     "metadata": {},
     "output_type": "execute_result"
    }
   ],
   "source": [
    "# Contagem de registros\n",
    "vend.count()"
   ]
  },
  {
   "cell_type": "code",
   "execution_count": 12,
   "id": "10a111c2",
   "metadata": {},
   "outputs": [
    {
     "name": "stdout",
     "output_type": "stream",
     "text": [
      "+---+-------------------+------+-------------+------+----------+\n",
      "| Id|               nome|status|       cidade|vendas|      data|\n",
      "+---+-------------------+------+-------------+------+----------+\n",
      "| 10|   Viviana Sequeira| Ativo| Porto Alegre|     0|2020-09-05|\n",
      "|  5|     Graça Ornellas| Ativo| Porto Alegre|    12|2020-02-05|\n",
      "|  6|   Matilde Rebouças| Ativo| Porto Alegre|    22|2019-01-05|\n",
      "|  1|   Carminda Pestana| Ativo|  Santa Maria|    23|2020-08-11|\n",
      "|  2|    Deolinda Vilela| Ativo|Novo Hamburgo|    34|2020-03-05|\n",
      "|  3|   Emídio Dornelles| Ativo| Porto Alegre|    34|2020-02-05|\n",
      "|  4|Felisbela Dornelles| Ativo| Porto Alegre|    36|2020-02-05|\n",
      "|  7|    Noêmia   Orriça| Ativo|  Santa Maria|    45|2019-10-05|\n",
      "|  9|      Uriel Queiroz| Ativo| Porto Alegre|    54|2018-05-05|\n",
      "|  8|      Roque Vásquez| Ativo| Porto Alegre|    65|2020-03-05|\n",
      "+---+-------------------+------+-------------+------+----------+\n",
      "\n"
     ]
    }
   ],
   "source": [
    "# Ordenando\n",
    "vend.orderBy('Vendas').show()"
   ]
  },
  {
   "cell_type": "code",
   "execution_count": 13,
   "id": "ab9df0ca",
   "metadata": {},
   "outputs": [
    {
     "name": "stdout",
     "output_type": "stream",
     "text": [
      "+---+-------------------+------+-------------+------+----------+\n",
      "| Id|               nome|status|       cidade|vendas|      data|\n",
      "+---+-------------------+------+-------------+------+----------+\n",
      "|  8|      Roque Vásquez| Ativo| Porto Alegre|    65|2020-03-05|\n",
      "|  9|      Uriel Queiroz| Ativo| Porto Alegre|    54|2018-05-05|\n",
      "|  7|    Noêmia   Orriça| Ativo|  Santa Maria|    45|2019-10-05|\n",
      "|  4|Felisbela Dornelles| Ativo| Porto Alegre|    36|2020-02-05|\n",
      "|  2|    Deolinda Vilela| Ativo|Novo Hamburgo|    34|2020-03-05|\n",
      "|  3|   Emídio Dornelles| Ativo| Porto Alegre|    34|2020-02-05|\n",
      "|  1|   Carminda Pestana| Ativo|  Santa Maria|    23|2020-08-11|\n",
      "|  6|   Matilde Rebouças| Ativo| Porto Alegre|    22|2019-01-05|\n",
      "|  5|     Graça Ornellas| Ativo| Porto Alegre|    12|2020-02-05|\n",
      "| 10|   Viviana Sequeira| Ativo| Porto Alegre|     0|2020-09-05|\n",
      "+---+-------------------+------+-------------+------+----------+\n",
      "\n"
     ]
    }
   ],
   "source": [
    "# Ordenando em ordem decrescente\n",
    "vend.orderBy(func.col('vendas').desc()).show()"
   ]
  },
  {
   "cell_type": "code",
   "execution_count": 14,
   "id": "6ca67c13",
   "metadata": {},
   "outputs": [
    {
     "name": "stdout",
     "output_type": "stream",
     "text": [
      "+---+-------------------+------+-------------+------+----------+\n",
      "| Id|               nome|status|       cidade|vendas|      data|\n",
      "+---+-------------------+------+-------------+------+----------+\n",
      "|  2|    Deolinda Vilela| Ativo|Novo Hamburgo|    34|2020-03-05|\n",
      "|  8|      Roque Vásquez| Ativo| Porto Alegre|    65|2020-03-05|\n",
      "|  9|      Uriel Queiroz| Ativo| Porto Alegre|    54|2018-05-05|\n",
      "|  4|Felisbela Dornelles| Ativo| Porto Alegre|    36|2020-02-05|\n",
      "|  3|   Emídio Dornelles| Ativo| Porto Alegre|    34|2020-02-05|\n",
      "|  6|   Matilde Rebouças| Ativo| Porto Alegre|    22|2019-01-05|\n",
      "|  5|     Graça Ornellas| Ativo| Porto Alegre|    12|2020-02-05|\n",
      "| 10|   Viviana Sequeira| Ativo| Porto Alegre|     0|2020-09-05|\n",
      "|  7|    Noêmia   Orriça| Ativo|  Santa Maria|    45|2019-10-05|\n",
      "|  1|   Carminda Pestana| Ativo|  Santa Maria|    23|2020-08-11|\n",
      "+---+-------------------+------+-------------+------+----------+\n",
      "\n"
     ]
    }
   ],
   "source": [
    "# Ordenando por dois parametros\n",
    "vend.orderBy(('cidade'), func.col('vendas').desc()).show()"
   ]
  },
  {
   "cell_type": "code",
   "execution_count": 125,
   "id": "ea528855",
   "metadata": {},
   "outputs": [
    {
     "name": "stdout",
     "output_type": "stream",
     "text": [
      "+---+-------------------+------+\n",
      "| Id|               nome|vendas|\n",
      "+---+-------------------+------+\n",
      "|  1|   Carminda Pestana|    23|\n",
      "|  2|    Deolinda Vilela|    34|\n",
      "|  3|   Emídio Dornelles|    34|\n",
      "|  4|Felisbela Dornelles|    36|\n",
      "|  6|   Matilde Rebouças|    22|\n",
      "|  7|    Noêmia   Orriça|    45|\n",
      "|  8|      Roque Vásquez|    65|\n",
      "|  9|      Uriel Queiroz|    54|\n",
      "+---+-------------------+------+\n",
      "\n"
     ]
    }
   ],
   "source": [
    "# Importando apenas vendas > 20\n",
    "vend.select('Id','nome','vendas').where(func.col('vendas')>20).show()"
   ]
  },
  {
   "cell_type": "code",
   "execution_count": 126,
   "id": "74f5f975",
   "metadata": {},
   "outputs": [
    {
     "name": "stdout",
     "output_type": "stream",
     "text": [
      "+---+-------------------+------+\n",
      "| Id|               nome|vendas|\n",
      "+---+-------------------+------+\n",
      "|  1|   Carminda Pestana|    23|\n",
      "|  2|    Deolinda Vilela|    34|\n",
      "|  3|   Emídio Dornelles|    34|\n",
      "|  4|Felisbela Dornelles|    36|\n",
      "|  6|   Matilde Rebouças|    22|\n",
      "+---+-------------------+------+\n",
      "\n"
     ]
    }
   ],
   "source": [
    "# Importando apenas vendas > 20 e < 40\n",
    "vend.select('Id','nome','vendas').where((func.col('vendas')>20)&(func.col('vendas')<40)).show()"
   ]
  },
  {
   "cell_type": "code",
   "execution_count": 127,
   "id": "0abcd5de",
   "metadata": {},
   "outputs": [
    {
     "name": "stdout",
     "output_type": "stream",
     "text": [
      "+---+----------------+------+------------+\n",
      "| Id|            nome|vendas|      cidade|\n",
      "+---+----------------+------+------------+\n",
      "|  1|Carminda Pestana|    23| Santa Maria|\n",
      "|  7| Noêmia   Orriça|    45| Santa Maria|\n",
      "|  8|   Roque Vásquez|    65|Porto Alegre|\n",
      "|  9|   Uriel Queiroz|    54|Porto Alegre|\n",
      "+---+----------------+------+------------+\n",
      "\n"
     ]
    }
   ],
   "source": [
    "# Importando apenas vendas > 40 OU de Santa Maria\n",
    "vend.select('Id','nome','vendas','cidade').where((func.col('vendas')>40)|(func.col('cidade')=='Santa Maria')).show()"
   ]
  },
  {
   "cell_type": "code",
   "execution_count": 128,
   "id": "7040feb3",
   "metadata": {},
   "outputs": [
    {
     "name": "stdout",
     "output_type": "stream",
     "text": [
      "+---+-------------------+------+-------------+------+----------+\n",
      "| Id|               Nome|status|       cidade|vendas|      data|\n",
      "+---+-------------------+------+-------------+------+----------+\n",
      "|  1|   Carminda Pestana| Ativo|  Santa Maria|    23|2020-08-11|\n",
      "|  2|    Deolinda Vilela| Ativo|Novo Hamburgo|    34|2020-03-05|\n",
      "|  3|   Emídio Dornelles| Ativo| Porto Alegre|    34|2020-02-05|\n",
      "|  4|Felisbela Dornelles| Ativo| Porto Alegre|    36|2020-02-05|\n",
      "|  5|     Graça Ornellas| Ativo| Porto Alegre|    12|2020-02-05|\n",
      "|  6|   Matilde Rebouças| Ativo| Porto Alegre|    22|2019-01-05|\n",
      "|  7|    Noêmia   Orriça| Ativo|  Santa Maria|    45|2019-10-05|\n",
      "|  8|      Roque Vásquez| Ativo| Porto Alegre|    65|2020-03-05|\n",
      "|  9|      Uriel Queiroz| Ativo| Porto Alegre|    54|2018-05-05|\n",
      "| 10|   Viviana Sequeira| Ativo| Porto Alegre|     0|2020-09-05|\n",
      "+---+-------------------+------+-------------+------+----------+\n",
      "\n"
     ]
    }
   ],
   "source": [
    "# Renomeando coluna\n",
    "# Bom lembrar que NAO E POSSIVEL mudar o tipo no DF original, portanto um novo deve ser criado\n",
    "novodf = vend.withColumnRenamed('nome','Nome')\n",
    "novodf.show()"
   ]
  },
  {
   "cell_type": "code",
   "execution_count": 129,
   "id": "04864bfb",
   "metadata": {},
   "outputs": [
    {
     "name": "stdout",
     "output_type": "stream",
     "text": [
      "StructType([StructField('Id', IntegerType(), True), StructField('nome', StringType(), True), StructField('status', StringType(), True), StructField('cidade', StringType(), True), StructField('vendas', IntegerType(), True), StructField('data', StringType(), True)])\n",
      "+---+-------------------+------+-------------+------+----------+-------------------+\n",
      "| Id|               nome|status|       cidade|vendas|      data|              data2|\n",
      "+---+-------------------+------+-------------+------+----------+-------------------+\n",
      "|  1|   Carminda Pestana| Ativo|  Santa Maria|    23|2020-08-11|2020-08-11 00:00:00|\n",
      "|  2|    Deolinda Vilela| Ativo|Novo Hamburgo|    34|2020-03-05|2020-03-05 00:00:00|\n",
      "|  3|   Emídio Dornelles| Ativo| Porto Alegre|    34|2020-02-05|2020-02-05 00:00:00|\n",
      "|  4|Felisbela Dornelles| Ativo| Porto Alegre|    36|2020-02-05|2020-02-05 00:00:00|\n",
      "|  5|     Graça Ornellas| Ativo| Porto Alegre|    12|2020-02-05|2020-02-05 00:00:00|\n",
      "|  6|   Matilde Rebouças| Ativo| Porto Alegre|    22|2019-01-05|2019-01-05 00:00:00|\n",
      "|  7|    Noêmia   Orriça| Ativo|  Santa Maria|    45|2019-10-05|2019-10-05 00:00:00|\n",
      "|  8|      Roque Vásquez| Ativo| Porto Alegre|    65|2020-03-05|2020-03-05 00:00:00|\n",
      "|  9|      Uriel Queiroz| Ativo| Porto Alegre|    54|2018-05-05|2018-05-05 00:00:00|\n",
      "| 10|   Viviana Sequeira| Ativo| Porto Alegre|     0|2020-09-05|2020-09-05 00:00:00|\n",
      "+---+-------------------+------+-------------+------+----------+-------------------+\n",
      "\n",
      "StructType([StructField('Id', IntegerType(), True), StructField('nome', StringType(), True), StructField('status', StringType(), True), StructField('cidade', StringType(), True), StructField('vendas', IntegerType(), True), StructField('data', StringType(), True), StructField('data2', TimestampType(), True)])\n"
     ]
    }
   ],
   "source": [
    "# Alterando o tipo da coluna\n",
    "print(vend.schema)\n",
    "novodf2 = vend.withColumn('data2', to_timestamp(func.col('data'), 'yyyy-MM-dd'))\n",
    "novodf2.show()\n",
    "print(novodf2.schema)"
   ]
  },
  {
   "cell_type": "code",
   "execution_count": 130,
   "id": "3ed17378",
   "metadata": {},
   "outputs": [
    {
     "name": "stdout",
     "output_type": "stream",
     "text": [
      "+----------+-----------+\n",
      "|year(data)|month(data)|\n",
      "+----------+-----------+\n",
      "|      2020|          8|\n",
      "|      2020|          3|\n",
      "|      2020|          2|\n",
      "|      2020|          2|\n",
      "|      2020|          2|\n",
      "|      2019|          1|\n",
      "|      2019|         10|\n",
      "|      2020|          3|\n",
      "|      2018|          5|\n",
      "|      2020|          9|\n",
      "+----------+-----------+\n",
      "\n"
     ]
    }
   ],
   "source": [
    "# Select em transformacoes de datas\n",
    "vend.select(year('data'), month('data')).show()"
   ]
  },
  {
   "cell_type": "code",
   "execution_count": 131,
   "id": "f1c637f4",
   "metadata": {},
   "outputs": [
    {
     "name": "stdout",
     "output_type": "stream",
     "text": [
      "+----------+\n",
      "|year(data)|\n",
      "+----------+\n",
      "|      2018|\n",
      "|      2019|\n",
      "|      2020|\n",
      "+----------+\n",
      "\n"
     ]
    }
   ],
   "source": [
    "# Select em transformacoes de datas\n",
    "vend.select(year('data')).distinct().show()"
   ]
  },
  {
   "cell_type": "code",
   "execution_count": 132,
   "id": "17f92073",
   "metadata": {},
   "outputs": [
    {
     "name": "stdout",
     "output_type": "stream",
     "text": [
      "+-----------+-----------+\n",
      "|month(data)|sum(vendas)|\n",
      "+-----------+-----------+\n",
      "|          9|          0|\n",
      "|          1|         22|\n",
      "|          8|         23|\n",
      "|         10|         45|\n",
      "|          5|         54|\n",
      "|          2|         82|\n",
      "|          3|         99|\n",
      "+-----------+-----------+\n",
      "\n"
     ]
    }
   ],
   "source": [
    "# Total de Vendas por Mes ordenadas pelo total vendido\n",
    "vend.groupBy(month('data')).sum('vendas').orderBy(sum('vendas')).show()"
   ]
  },
  {
   "cell_type": "code",
   "execution_count": 133,
   "id": "154db6fa",
   "metadata": {},
   "outputs": [
    {
     "name": "stdout",
     "output_type": "stream",
     "text": [
      "+----------+-----+\n",
      "|year(data)|count|\n",
      "+----------+-----+\n",
      "|      2020|    7|\n",
      "|      2019|    2|\n",
      "|      2018|    1|\n",
      "+----------+-----+\n",
      "\n"
     ]
    }
   ],
   "source": [
    "# Contagem de Ano em ordem decrescente\n",
    "vend.groupBy(year('data')).count().orderBy('count', ascending=False).show()"
   ]
  },
  {
   "cell_type": "code",
   "execution_count": 134,
   "id": "9feabf89",
   "metadata": {},
   "outputs": [
    {
     "name": "stdout",
     "output_type": "stream",
     "text": [
      "+------------+-----------+\n",
      "|      cidade|sum(vendas)|\n",
      "+------------+-----------+\n",
      "| Santa Maria|         68|\n",
      "|Porto Alegre|        223|\n",
      "+------------+-----------+\n",
      "\n"
     ]
    }
   ],
   "source": [
    "# Total de Vendas por cidade ordenadas pelo total vendido considerando apenas cidades que venderam mais de 50\n",
    "vend.groupBy('cidade').sum('vendas').orderBy(sum('vendas')).where(func.col('sum(vendas)')>50).show()"
   ]
  },
  {
   "cell_type": "code",
   "execution_count": 18,
   "id": "bfe4645c",
   "metadata": {},
   "outputs": [
    {
     "name": "stdout",
     "output_type": "stream",
     "text": [
      "+-------------+-----------+\n",
      "|       cidade|sum(vendas)|\n",
      "+-------------+-----------+\n",
      "|Novo Hamburgo|         34|\n",
      "|  Santa Maria|         68|\n",
      "| Porto Alegre|        104|\n",
      "+-------------+-----------+\n",
      "\n"
     ]
    }
   ],
   "source": [
    "# Total de Vendas por cidade ordenadas pelo total vendido considerando apenas as vendas de Id inferior a 8\n",
    "vend.filter(func.col('Id')<8).groupBy('cidade').sum('vendas').orderBy(sum('vendas')).show()"
   ]
  }
 ],
 "metadata": {
  "kernelspec": {
   "display_name": "Python 3 (ipykernel)",
   "language": "python",
   "name": "python3"
  },
  "language_info": {
   "codemirror_mode": {
    "name": "ipython",
    "version": 3
   },
   "file_extension": ".py",
   "mimetype": "text/x-python",
   "name": "python",
   "nbconvert_exporter": "python",
   "pygments_lexer": "ipython3",
   "version": "3.10.6"
  }
 },
 "nbformat": 4,
 "nbformat_minor": 5
}
