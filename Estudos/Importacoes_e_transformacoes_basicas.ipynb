{
 "cells": [
  {
   "cell_type": "code",
   "execution_count": 65,
   "id": "45b9f31a",
   "metadata": {},
   "outputs": [],
   "source": [
    "# Carregando libs e iniciando Session\n",
    "from pyspark.sql import SparkSession, functions as func\n",
    "from pyspark.sql.types import *\n",
    "from pyspark.sql.functions import *\n",
    "\n",
    "spark = SparkSession.builder.master(\"local[1]\").appName(\"Testing\").getOrCreate()"
   ]
  },
  {
   "cell_type": "code",
   "execution_count": 66,
   "id": "e237df7e",
   "metadata": {},
   "outputs": [
    {
     "name": "stdout",
     "output_type": "stream",
     "text": [
      "+---+-------------------+------+-------------+------+----------+\n",
      "| Id|               nome|status|       cidade|vendas|      data|\n",
      "+---+-------------------+------+-------------+------+----------+\n",
      "|  1|   Carminda Pestana| Ativo|  Santa Maria|    23|2020-08-11|\n",
      "|  2|    Deolinda Vilela| Ativo|Novo Hamburgo|    34|2020-03-05|\n",
      "|  3|   Emídio Dornelles| Ativo| Porto Alegre|    34|2020-02-05|\n",
      "|  4|Felisbela Dornelles| Ativo| Porto Alegre|    36|2020-02-05|\n",
      "|  5|     Graça Ornellas| Ativo| Porto Alegre|    12|2020-02-05|\n",
      "|  6|   Matilde Rebouças| Ativo| Porto Alegre|    22|2019-01-05|\n",
      "|  7|    Noêmia   Orriça| Ativo|  Santa Maria|    45|2019-10-05|\n",
      "|  8|      Roque Vásquez| Ativo| Porto Alegre|    65|2020-03-05|\n",
      "|  9|      Uriel Queiroz| Ativo| Porto Alegre|    54|2018-05-05|\n",
      "| 10|   Viviana Sequeira| Ativo| Porto Alegre|     0|2020-09-05|\n",
      "+---+-------------------+------+-------------+------+----------+\n",
      "\n"
     ]
    }
   ],
   "source": [
    "# Importando dados com definicao de schema\n",
    "schema = \" Id INT, nome STRING, status STRING, cidade STRING, vendas INT, data STRING\"\n",
    "vend = spark.read.csv('arquivos/despachantes.csv', header=False,schema=schema)\n",
    "vend.show()"
   ]
  },
  {
   "cell_type": "code",
   "execution_count": 67,
   "id": "7c4f300e",
   "metadata": {},
   "outputs": [
    {
     "name": "stdout",
     "output_type": "stream",
     "text": [
      "+---+-------------------+-----+-------------+---+-------------------+\n",
      "|_c0|                _c1|  _c2|          _c3|_c4|                _c5|\n",
      "+---+-------------------+-----+-------------+---+-------------------+\n",
      "|  1|   Carminda Pestana|Ativo|  Santa Maria| 23|2020-08-11 00:00:00|\n",
      "|  2|    Deolinda Vilela|Ativo|Novo Hamburgo| 34|2020-03-05 00:00:00|\n",
      "|  3|   Emídio Dornelles|Ativo| Porto Alegre| 34|2020-02-05 00:00:00|\n",
      "|  4|Felisbela Dornelles|Ativo| Porto Alegre| 36|2020-02-05 00:00:00|\n",
      "|  5|     Graça Ornellas|Ativo| Porto Alegre| 12|2020-02-05 00:00:00|\n",
      "|  6|   Matilde Rebouças|Ativo| Porto Alegre| 22|2019-01-05 00:00:00|\n",
      "|  7|    Noêmia   Orriça|Ativo|  Santa Maria| 45|2019-10-05 00:00:00|\n",
      "|  8|      Roque Vásquez|Ativo| Porto Alegre| 65|2020-03-05 00:00:00|\n",
      "|  9|      Uriel Queiroz|Ativo| Porto Alegre| 54|2018-05-05 00:00:00|\n",
      "| 10|   Viviana Sequeira|Ativo| Porto Alegre|  0|2020-09-05 00:00:00|\n",
      "+---+-------------------+-----+-------------+---+-------------------+\n",
      "\n"
     ]
    }
   ],
   "source": [
    "# Importando dados com load e sem definicao do schema\n",
    "vend2 = spark.read.load('arquivos/despachantes.csv', header=False, format='csv', sep=',', inferSchema=True)\n",
    "vend2.show()"
   ]
  },
  {
   "cell_type": "code",
   "execution_count": 68,
   "id": "6448f1d5",
   "metadata": {},
   "outputs": [
    {
     "name": "stdout",
     "output_type": "stream",
     "text": [
      "Para a coluna 0, o type inferido foi igual ao definido.\n",
      "\n",
      "Para a coluna 1, o type inferido foi igual ao definido.\n",
      "\n",
      "Para a coluna 2, o type inferido foi igual ao definido.\n",
      "\n",
      "Para a coluna 3, o type inferido foi igual ao definido.\n",
      "\n",
      "Para a coluna 4, o type inferido foi igual ao definido.\n",
      "\n",
      "O type da coluna 5 definido foi diferente do inferido:\n",
      "Definido StringType()\n",
      "Inferido TimestampType()\n"
     ]
    }
   ],
   "source": [
    "# Conferindo Schema inferido\n",
    "for i in range(0,len(vend2.schema)):\n",
    "    if vend2.schema.fields[i].dataType == vend.schema.fields[i].dataType:\n",
    "        print(f'Para a coluna {i}, o type inferido foi igual ao definido.\\n')\n",
    "    else:\n",
    "        print(f'O type da coluna {i} definido foi diferente do inferido:')\n",
    "        print(f'Definido {vend.schema.fields[i].dataType}')\n",
    "        print(f'Inferido {vend2.schema.fields[i].dataType}')"
   ]
  },
  {
   "cell_type": "code",
   "execution_count": 69,
   "id": "fa5d5c2a",
   "metadata": {},
   "outputs": [
    {
     "name": "stdout",
     "output_type": "stream",
     "text": [
      "+---+-------------------+------+\n",
      "| Id|               nome|vendas|\n",
      "+---+-------------------+------+\n",
      "|  1|   Carminda Pestana|    23|\n",
      "|  2|    Deolinda Vilela|    34|\n",
      "|  3|   Emídio Dornelles|    34|\n",
      "|  4|Felisbela Dornelles|    36|\n",
      "|  6|   Matilde Rebouças|    22|\n",
      "|  7|    Noêmia   Orriça|    45|\n",
      "|  8|      Roque Vásquez|    65|\n",
      "|  9|      Uriel Queiroz|    54|\n",
      "+---+-------------------+------+\n",
      "\n"
     ]
    }
   ],
   "source": [
    "# Importando apenas vendas > 20\n",
    "vend.select('Id','nome','vendas').where(func.col('vendas')>20).show()"
   ]
  },
  {
   "cell_type": "code",
   "execution_count": 70,
   "id": "2c9b983b",
   "metadata": {},
   "outputs": [
    {
     "name": "stdout",
     "output_type": "stream",
     "text": [
      "+---+-------------------+------+\n",
      "| Id|               nome|vendas|\n",
      "+---+-------------------+------+\n",
      "|  1|   Carminda Pestana|    23|\n",
      "|  2|    Deolinda Vilela|    34|\n",
      "|  3|   Emídio Dornelles|    34|\n",
      "|  4|Felisbela Dornelles|    36|\n",
      "|  6|   Matilde Rebouças|    22|\n",
      "+---+-------------------+------+\n",
      "\n"
     ]
    }
   ],
   "source": [
    "# Importando apenas vendas > 20 e < 40\n",
    "vend.select('Id','nome','vendas').where((func.col('vendas')>20)&(func.col('vendas')<40)).show()"
   ]
  },
  {
   "cell_type": "code",
   "execution_count": 71,
   "id": "5bee133f",
   "metadata": {},
   "outputs": [
    {
     "name": "stdout",
     "output_type": "stream",
     "text": [
      "+---+----------------+------+------------+\n",
      "| Id|            nome|vendas|      cidade|\n",
      "+---+----------------+------+------------+\n",
      "|  1|Carminda Pestana|    23| Santa Maria|\n",
      "|  7| Noêmia   Orriça|    45| Santa Maria|\n",
      "|  8|   Roque Vásquez|    65|Porto Alegre|\n",
      "|  9|   Uriel Queiroz|    54|Porto Alegre|\n",
      "+---+----------------+------+------------+\n",
      "\n"
     ]
    }
   ],
   "source": [
    "# Importando apenas vendas > 40 OU de Santa Maria\n",
    "vend.select('Id','nome','vendas','cidade').where((func.col('vendas')>40)|(func.col('cidade')=='Santa Maria')).show()"
   ]
  },
  {
   "cell_type": "code",
   "execution_count": 72,
   "id": "9ec9d4c9",
   "metadata": {},
   "outputs": [
    {
     "name": "stdout",
     "output_type": "stream",
     "text": [
      "+---+-------------------+------+-------------+------+----------+\n",
      "| Id|               Nome|status|       cidade|vendas|      data|\n",
      "+---+-------------------+------+-------------+------+----------+\n",
      "|  1|   Carminda Pestana| Ativo|  Santa Maria|    23|2020-08-11|\n",
      "|  2|    Deolinda Vilela| Ativo|Novo Hamburgo|    34|2020-03-05|\n",
      "|  3|   Emídio Dornelles| Ativo| Porto Alegre|    34|2020-02-05|\n",
      "|  4|Felisbela Dornelles| Ativo| Porto Alegre|    36|2020-02-05|\n",
      "|  5|     Graça Ornellas| Ativo| Porto Alegre|    12|2020-02-05|\n",
      "|  6|   Matilde Rebouças| Ativo| Porto Alegre|    22|2019-01-05|\n",
      "|  7|    Noêmia   Orriça| Ativo|  Santa Maria|    45|2019-10-05|\n",
      "|  8|      Roque Vásquez| Ativo| Porto Alegre|    65|2020-03-05|\n",
      "|  9|      Uriel Queiroz| Ativo| Porto Alegre|    54|2018-05-05|\n",
      "| 10|   Viviana Sequeira| Ativo| Porto Alegre|     0|2020-09-05|\n",
      "+---+-------------------+------+-------------+------+----------+\n",
      "\n"
     ]
    }
   ],
   "source": [
    "# Renomeando coluna\n",
    "# Bom lembrar que NAO E POSSIVEL mudar o tipo no DF original, portanto um novo deve ser criado\n",
    "novodf = vend.withColumnRenamed('nome','Nome')\n",
    "novodf.show()"
   ]
  },
  {
   "cell_type": "code",
   "execution_count": 79,
   "id": "44e46aad",
   "metadata": {},
   "outputs": [
    {
     "name": "stdout",
     "output_type": "stream",
     "text": [
      "StructType([StructField('Id', IntegerType(), True), StructField('nome', StringType(), True), StructField('status', StringType(), True), StructField('cidade', StringType(), True), StructField('vendas', IntegerType(), True), StructField('data', StringType(), True)])\n",
      "+---+-------------------+------+-------------+------+----------+-------------------+\n",
      "| Id|               nome|status|       cidade|vendas|      data|              data2|\n",
      "+---+-------------------+------+-------------+------+----------+-------------------+\n",
      "|  1|   Carminda Pestana| Ativo|  Santa Maria|    23|2020-08-11|2020-08-11 00:00:00|\n",
      "|  2|    Deolinda Vilela| Ativo|Novo Hamburgo|    34|2020-03-05|2020-03-05 00:00:00|\n",
      "|  3|   Emídio Dornelles| Ativo| Porto Alegre|    34|2020-02-05|2020-02-05 00:00:00|\n",
      "|  4|Felisbela Dornelles| Ativo| Porto Alegre|    36|2020-02-05|2020-02-05 00:00:00|\n",
      "|  5|     Graça Ornellas| Ativo| Porto Alegre|    12|2020-02-05|2020-02-05 00:00:00|\n",
      "|  6|   Matilde Rebouças| Ativo| Porto Alegre|    22|2019-01-05|2019-01-05 00:00:00|\n",
      "|  7|    Noêmia   Orriça| Ativo|  Santa Maria|    45|2019-10-05|2019-10-05 00:00:00|\n",
      "|  8|      Roque Vásquez| Ativo| Porto Alegre|    65|2020-03-05|2020-03-05 00:00:00|\n",
      "|  9|      Uriel Queiroz| Ativo| Porto Alegre|    54|2018-05-05|2018-05-05 00:00:00|\n",
      "| 10|   Viviana Sequeira| Ativo| Porto Alegre|     0|2020-09-05|2020-09-05 00:00:00|\n",
      "+---+-------------------+------+-------------+------+----------+-------------------+\n",
      "\n",
      "StructType([StructField('Id', IntegerType(), True), StructField('nome', StringType(), True), StructField('status', StringType(), True), StructField('cidade', StringType(), True), StructField('vendas', IntegerType(), True), StructField('data', StringType(), True), StructField('data2', TimestampType(), True)])\n"
     ]
    }
   ],
   "source": [
    "# Alterando o tipo da coluna\n",
    "print(vend.schema)\n",
    "novodf2 = vend.withColumn('data2', to_timestamp(func.col('data'), 'yyyy-MM-dd'))\n",
    "novodf2.show()\n",
    "print(novodf2.schema)"
   ]
  },
  {
   "cell_type": "code",
   "execution_count": 84,
   "id": "bfbc572c",
   "metadata": {},
   "outputs": [
    {
     "name": "stdout",
     "output_type": "stream",
     "text": [
      "+----------+-----------+\n",
      "|year(data)|month(data)|\n",
      "+----------+-----------+\n",
      "|      2020|          8|\n",
      "|      2020|          3|\n",
      "|      2020|          2|\n",
      "|      2020|          2|\n",
      "|      2020|          2|\n",
      "|      2019|          1|\n",
      "|      2019|         10|\n",
      "|      2020|          3|\n",
      "|      2018|          5|\n",
      "|      2020|          9|\n",
      "+----------+-----------+\n",
      "\n"
     ]
    }
   ],
   "source": [
    "# Select em transformacoes de datas\n",
    "vend.select(year('data'), month('data')).show()"
   ]
  },
  {
   "cell_type": "code",
   "execution_count": 86,
   "id": "fe66effc",
   "metadata": {},
   "outputs": [
    {
     "name": "stdout",
     "output_type": "stream",
     "text": [
      "+----------+\n",
      "|year(data)|\n",
      "+----------+\n",
      "|      2018|\n",
      "|      2019|\n",
      "|      2020|\n",
      "+----------+\n",
      "\n"
     ]
    }
   ],
   "source": [
    "# Select em transformacoes de datas\n",
    "vend.select(year('data')).distinct().show()"
   ]
  },
  {
   "cell_type": "code",
   "execution_count": 93,
   "id": "3e220bb0",
   "metadata": {},
   "outputs": [
    {
     "name": "stdout",
     "output_type": "stream",
     "text": [
      "+-----------+-----------+\n",
      "|month(data)|sum(vendas)|\n",
      "+-----------+-----------+\n",
      "|          9|          0|\n",
      "|          1|         22|\n",
      "|          8|         23|\n",
      "|         10|         45|\n",
      "|          5|         54|\n",
      "|          2|         82|\n",
      "|          3|         99|\n",
      "+-----------+-----------+\n",
      "\n"
     ]
    }
   ],
   "source": [
    "# Total de Vendas por Mes ordenadas pelo total vendido\n",
    "vend.groupBy(month('data')).sum('vendas').orderBy(sum('vendas')).show()"
   ]
  },
  {
   "cell_type": "code",
   "execution_count": 108,
   "id": "19ff0222",
   "metadata": {},
   "outputs": [
    {
     "name": "stdout",
     "output_type": "stream",
     "text": [
      "+----------+-----+\n",
      "|year(data)|count|\n",
      "+----------+-----+\n",
      "|      2020|    7|\n",
      "|      2019|    2|\n",
      "|      2018|    1|\n",
      "+----------+-----+\n",
      "\n"
     ]
    }
   ],
   "source": [
    "# Contagem de Ano em ordem decrescente\n",
    "vend.groupBy(year('data')).count().orderBy('count', ascending=False).show()"
   ]
  },
  {
   "cell_type": "code",
   "execution_count": 120,
   "id": "f3b85db1",
   "metadata": {},
   "outputs": [
    {
     "name": "stdout",
     "output_type": "stream",
     "text": [
      "+------------+-----------+\n",
      "|      cidade|sum(vendas)|\n",
      "+------------+-----------+\n",
      "| Santa Maria|         68|\n",
      "|Porto Alegre|        223|\n",
      "+------------+-----------+\n",
      "\n"
     ]
    }
   ],
   "source": [
    "# Total de Vendas por cidade ordenadas pelo total vendido considerando apenas cidades que venderam mais de 50\n",
    "vend.groupBy('cidade').sum('vendas').orderBy(sum('vendas')).where(func.col('sum(vendas)')>50).show()"
   ]
  }
 ],
 "metadata": {
  "kernelspec": {
   "display_name": "Python 3 (ipykernel)",
   "language": "python",
   "name": "python3"
  },
  "language_info": {
   "codemirror_mode": {
    "name": "ipython",
    "version": 3
   },
   "file_extension": ".py",
   "mimetype": "text/x-python",
   "name": "python",
   "nbconvert_exporter": "python",
   "pygments_lexer": "ipython3",
   "version": "3.10.6"
  }
 },
 "nbformat": 4,
 "nbformat_minor": 5
}
