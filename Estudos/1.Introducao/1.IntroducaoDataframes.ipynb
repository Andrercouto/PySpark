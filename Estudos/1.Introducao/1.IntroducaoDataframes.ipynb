{
 "cells": [
  {
   "cell_type": "code",
   "execution_count": 2,
   "id": "6ffbe277",
   "metadata": {},
   "outputs": [],
   "source": [
    "# Carregando libs e iniciando Session\n",
    "from pyspark.sql import SparkSession\n",
    "from pyspark.sql.functions import sum, expr\n",
    "\n",
    "spark = SparkSession.builder.getOrCreate()"
   ]
  },
  {
   "cell_type": "code",
   "execution_count": 3,
   "id": "044db376",
   "metadata": {},
   "outputs": [
    {
     "name": "stderr",
     "output_type": "stream",
     "text": [
      "\r",
      "[Stage 0:>                                                          (0 + 0) / 1]\r",
      "\r",
      "[Stage 0:>                                                          (0 + 1) / 1]\r"
     ]
    },
    {
     "name": "stdout",
     "output_type": "stream",
     "text": [
      "+-------+---+\n",
      "|     _1| _2|\n",
      "+-------+---+\n",
      "|  Pedro| 15|\n",
      "|Mariana| 20|\n",
      "| Marcos| 30|\n",
      "+-------+---+\n",
      "\n"
     ]
    },
    {
     "name": "stderr",
     "output_type": "stream",
     "text": [
      "\r",
      "                                                                                \r"
     ]
    }
   ],
   "source": [
    "# Criando DataFrame\n",
    "df1 = spark.createDataFrame([('Pedro', 15),('Mariana', 20),('Marcos', 30)])\n",
    "df1.show()"
   ]
  },
  {
   "cell_type": "code",
   "execution_count": 4,
   "id": "2d4e456b",
   "metadata": {},
   "outputs": [
    {
     "data": {
      "text/plain": [
       "StructType([StructField('_1', StringType(), True), StructField('_2', LongType(), True)])"
      ]
     },
     "execution_count": 4,
     "metadata": {},
     "output_type": "execute_result"
    }
   ],
   "source": [
    "# Analisando Schema\n",
    "df1.schema"
   ]
  },
  {
   "cell_type": "code",
   "execution_count": 5,
   "id": "6ea35804",
   "metadata": {},
   "outputs": [
    {
     "data": {
      "text/plain": [
       "['_1', '_2']"
      ]
     },
     "execution_count": 5,
     "metadata": {},
     "output_type": "execute_result"
    }
   ],
   "source": [
    "# Analisando Colunas\n",
    "df1.columns"
   ]
  },
  {
   "cell_type": "code",
   "execution_count": 6,
   "id": "f2421cf8",
   "metadata": {},
   "outputs": [
    {
     "name": "stdout",
     "output_type": "stream",
     "text": [
      "+---+------+-----+\n",
      "| Id|  Nome|Idade|\n",
      "+---+------+-----+\n",
      "|  1| Pedro|   32|\n",
      "|  2| Maria|   26|\n",
      "|  3| Cesar|   37|\n",
      "|  4|Marcos|   26|\n",
      "+---+------+-----+\n",
      "\n"
     ]
    }
   ],
   "source": [
    "# Criando DataFrame (com SCHEMA)\n",
    "schema = 'Id INT, Nome STRING, Idade INT'\n",
    "dados = [[1, 'Pedro', 32],[ 2, 'Maria', 26], [ 3, 'Cesar', 37],[ 4, 'Marcos', 26]]\n",
    "df2 = spark.createDataFrame(dados, schema)\n",
    "df2.show()"
   ]
  },
  {
   "cell_type": "code",
   "execution_count": 7,
   "id": "37e8b1fb",
   "metadata": {},
   "outputs": [
    {
     "name": "stderr",
     "output_type": "stream",
     "text": [
      "\r",
      "[Stage 2:>                                                          (0 + 1) / 1]\r"
     ]
    },
    {
     "name": "stdout",
     "output_type": "stream",
     "text": [
      "+--------------+------+----+\n",
      "|       Produto|Vendas| Ano|\n",
      "+--------------+------+----+\n",
      "|     Geladeira|     3|2022|\n",
      "|Liquidificador|     6|2022|\n",
      "|     Geladeira|     2|2023|\n",
      "|Liquidificador|     4|2023|\n",
      "+--------------+------+----+\n",
      "\n"
     ]
    },
    {
     "name": "stderr",
     "output_type": "stream",
     "text": [
      "\r",
      "                                                                                \r"
     ]
    }
   ],
   "source": [
    "# Agrupamentos\n",
    "schema2 = 'Produto STRING, Vendas INT, Ano INT'\n",
    "vendas = [['Geladeira', 3, 2022],['Liquidificador', 6, 2022], ['Geladeira', 2, 2023], ['Liquidificador', 4, 2023]]\n",
    "df3 = spark.createDataFrame(vendas, schema2)\n",
    "df3.show()"
   ]
  },
  {
   "cell_type": "code",
   "execution_count": 8,
   "id": "bdb66044",
   "metadata": {},
   "outputs": [
    {
     "name": "stderr",
     "output_type": "stream",
     "text": [
      "\r",
      "[Stage 3:>                                                          (0 + 1) / 1]\r"
     ]
    },
    {
     "name": "stdout",
     "output_type": "stream",
     "text": [
      "+--------------+-----------+\n",
      "|       Produto|sum(vendas)|\n",
      "+--------------+-----------+\n",
      "|     Geladeira|          5|\n",
      "|Liquidificador|         10|\n",
      "+--------------+-----------+\n",
      "\n"
     ]
    },
    {
     "name": "stderr",
     "output_type": "stream",
     "text": [
      "\r",
      "                                                                                \r"
     ]
    }
   ],
   "source": [
    "# Agrupando Produtos por vendas\n",
    "somatorio_vendas = df3.groupBy('Produto').agg(sum('vendas'))\n",
    "somatorio_vendas.show()"
   ]
  },
  {
   "cell_type": "code",
   "execution_count": 9,
   "id": "a507ffae",
   "metadata": {},
   "outputs": [
    {
     "name": "stdout",
     "output_type": "stream",
     "text": [
      "+----+-----------+\n",
      "| Ano|sum(vendas)|\n",
      "+----+-----------+\n",
      "|2023|          6|\n",
      "|2022|          9|\n",
      "+----+-----------+\n",
      "\n"
     ]
    }
   ],
   "source": [
    "# Agrupando Vendas por ano (sem criar um novo objeto)\n",
    "df3.groupBy('Ano').agg(sum('vendas')).show()"
   ]
  },
  {
   "cell_type": "code",
   "execution_count": 10,
   "id": "cbe202b4",
   "metadata": {},
   "outputs": [
    {
     "name": "stderr",
     "output_type": "stream",
     "text": [
      "\r",
      "[Stage 9:>                                                          (0 + 1) / 1]\r"
     ]
    },
    {
     "name": "stdout",
     "output_type": "stream",
     "text": [
      "+--------------+------+\n",
      "|       Produto|Vendas|\n",
      "+--------------+------+\n",
      "|     Geladeira|     3|\n",
      "|Liquidificador|     6|\n",
      "|     Geladeira|     2|\n",
      "|Liquidificador|     4|\n",
      "+--------------+------+\n",
      "\n"
     ]
    },
    {
     "name": "stderr",
     "output_type": "stream",
     "text": [
      "\r",
      "                                                                                \r"
     ]
    }
   ],
   "source": [
    "# Select em colunas especificas\n",
    "df3.select('Produto', 'Vendas').show()"
   ]
  },
  {
   "cell_type": "code",
   "execution_count": 11,
   "id": "959b2a73",
   "metadata": {},
   "outputs": [
    {
     "name": "stdout",
     "output_type": "stream",
     "text": [
      "+--------------+------+--------------+\n",
      "|       Produto|Vendas|Vinte_porcento|\n",
      "+--------------+------+--------------+\n",
      "|     Geladeira|     3|           0.6|\n",
      "|Liquidificador|     6|           1.2|\n",
      "|     Geladeira|     2|           0.4|\n",
      "|Liquidificador|     4|           0.8|\n",
      "+--------------+------+--------------+\n",
      "\n"
     ]
    }
   ],
   "source": [
    "# Select em colunas especificas com criacao de novas colunas com expr\n",
    "df3.select('Produto', 'Vendas', expr('Vendas * 0.2 as Vinte_porcento')).show()"
   ]
  }
 ],
 "metadata": {
  "kernelspec": {
   "display_name": "Python 3 (ipykernel)",
   "language": "python",
   "name": "python3"
  },
  "language_info": {
   "codemirror_mode": {
    "name": "ipython",
    "version": 3
   },
   "file_extension": ".py",
   "mimetype": "text/x-python",
   "name": "python",
   "nbconvert_exporter": "python",
   "pygments_lexer": "ipython3",
   "version": "3.10.6"
  }
 },
 "nbformat": 4,
 "nbformat_minor": 5
}
