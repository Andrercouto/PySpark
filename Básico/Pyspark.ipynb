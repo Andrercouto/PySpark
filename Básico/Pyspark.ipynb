{
 "cells": [
  {
   "cell_type": "code",
   "execution_count": null,
   "id": "6131fe4b",
   "metadata": {},
   "outputs": [],
   "source": [
    "# Visualizando conjuntos de Dados\n",
    "display(dbutils.fs.ls('/databricks-datasets'))"
   ]
  },
  {
   "cell_type": "code",
   "execution_count": null,
   "id": "121914c8",
   "metadata": {},
   "outputs": [],
   "source": [
    "# Lendo arquivo de dados\n",
    "arquivo = '/databricks-datasets/flights'"
   ]
  },
  {
   "cell_type": "code",
   "execution_count": null,
   "id": "33979db4",
   "metadata": {},
   "outputs": [],
   "source": [
    "# Leitura da base de Dados\n",
    "df = spark\\\n",
    ".read.format('csv')\\ # Formato desejado\n",
    ".option('InferSchema', 'True')\\ # Inferência dos Datatypes\n",
    ".option('header', 'True')\\ # Cabeçalho\n",
    ".csv(arquivo)"
   ]
  },
  {
   "cell_type": "code",
   "execution_count": null,
   "id": "ee67b20a",
   "metadata": {},
   "outputs": [],
   "source": [
    "# Print do Schema\n",
    "df.printSchema()\n",
    "\n",
    "# Datatypes e possibilidade de nulo"
   ]
  },
  {
   "cell_type": "code",
   "execution_count": null,
   "id": "732ee4e9",
   "metadata": {},
   "outputs": [],
   "source": [
    "# Tipo do DataFrame\n",
    "type(df)"
   ]
  },
  {
   "cell_type": "code",
   "execution_count": null,
   "id": "f2fbd27c",
   "metadata": {},
   "outputs": [],
   "source": [
    "# Analogo à head\n",
    "df.take(5)"
   ]
  },
  {
   "cell_type": "code",
   "execution_count": null,
   "id": "c2822d5b",
   "metadata": {},
   "outputs": [],
   "source": [
    "# Formato de tabela\n",
    "display(df.show(5))"
   ]
  },
  {
   "cell_type": "code",
   "execution_count": null,
   "id": "dd696145",
   "metadata": {},
   "outputs": [],
   "source": [
    "# Contagem de linhas\n",
    "df.count()"
   ]
  },
  {
   "cell_type": "code",
   "execution_count": null,
   "id": "a938758a",
   "metadata": {},
   "outputs": [],
   "source": [
    "# Max através do pySpark\n",
    "from pyspark.sql.functions import max\n",
    "df.select(max('delay')).take(1)"
   ]
  },
  {
   "cell_type": "code",
   "execution_count": null,
   "id": "37a33ecd",
   "metadata": {},
   "outputs": [],
   "source": [
    "# Filtrando valores\n",
    "df.filter('delay < -2').show(2)"
   ]
  },
  {
   "cell_type": "code",
   "execution_count": null,
   "id": "b86a24a3",
   "metadata": {},
   "outputs": [],
   "source": [
    "# Filtrando valores utilizando o where (alias para filter)\n",
    "df.where('delay < -2').show(2)"
   ]
  },
  {
   "cell_type": "code",
   "execution_count": null,
   "id": "93c400f9",
   "metadata": {},
   "outputs": [],
   "source": [
    "# Ordenando dados pela coluna delay\n",
    "df.sort('delay').show(5)"
   ]
  },
  {
   "cell_type": "code",
   "execution_count": null,
   "id": "3dc5e721",
   "metadata": {},
   "outputs": [],
   "source": [
    "from pyspark.sql.functions import desc, asc, expr\n",
    "# Ordenando por ordem crescente\n",
    "df.orderBy(expr(\"delay desc\")).show(10)"
   ]
  },
  {
   "cell_type": "code",
   "execution_count": null,
   "id": "13356235",
   "metadata": {},
   "outputs": [],
   "source": [
    "# Estatisticas descritivas\n",
    "df.describe().show()"
   ]
  },
  {
   "cell_type": "code",
   "execution_count": null,
   "id": "35dc86e7",
   "metadata": {},
   "outputs": [],
   "source": [
    "# Iterando pelas linhas do DataFrame\n",
    "for i in df.collect():\n",
    "    print(i)\n",
    "    print(i[0], i[1], i[2])\n",
    "    print('proximo')"
   ]
  },
  {
   "cell_type": "code",
   "execution_count": null,
   "id": "6cc0ffa0",
   "metadata": {},
   "outputs": [],
   "source": [
    "# Iterando pelas linhas do DataFrame com operações matemáticas\n",
    "for i in df.collect():\n",
    "    print(i)\n",
    "    print(i[0], int(i[1])*int(i[2]))\n",
    "    print('proximo')"
   ]
  },
  {
   "cell_type": "code",
   "execution_count": null,
   "id": "3274b157",
   "metadata": {},
   "outputs": [],
   "source": [
    "# Adicionando nova coluna\n",
    "df = df.withColumn('Nova Coluna', df['delay']+2)\n",
    "df.show(10)"
   ]
  },
  {
   "cell_type": "code",
   "execution_count": null,
   "id": "23001b80",
   "metadata": {},
   "outputs": [],
   "source": [
    "# Adicionando nova coluna (random)\n",
    "\n",
    "# DEU RUIM\n",
    "\n",
    "from pyspark.sql.functions import lit\n",
    "import random\n",
    "randlist = [random.randint(1,10) for x in range(0, df.count())]\n",
    "df = df.withColumn('Coluna Random', lit(randlist))\n",
    "df.show(10)"
   ]
  },
  {
   "cell_type": "code",
   "execution_count": null,
   "id": "e27b755d",
   "metadata": {},
   "outputs": [],
   "source": [
    "# Removendo nova coluna\n",
    "df = df.drop('Nova Coluna')\n",
    "df.show(10)"
   ]
  },
  {
   "cell_type": "code",
   "execution_count": null,
   "id": "8655688c",
   "metadata": {},
   "outputs": [],
   "source": [
    "# Renomeando uma coluna\n",
    "df.withColumnRenamed('origin', 'or').show(10)"
   ]
  },
  {
   "cell_type": "code",
   "execution_count": null,
   "id": "156c9fa6",
   "metadata": {},
   "outputs": [],
   "source": [
    "# Vendo os valores nulos\n",
    "df.filter(\"delay is NULL\").show()"
   ]
  },
  {
   "cell_type": "code",
   "execution_count": null,
   "id": "d5a7a9f4",
   "metadata": {},
   "outputs": [],
   "source": [
    "# Filtrando valores nulos\n",
    "df.filter(df.delay.isNull()).show()"
   ]
  },
  {
   "cell_type": "code",
   "execution_count": null,
   "id": "f9d3a99e",
   "metadata": {},
   "outputs": [],
   "source": [
    "# Preenchendo valores Nulos com 0\n",
    "df.na.fill(value = 0)"
   ]
  },
  {
   "cell_type": "code",
   "execution_count": null,
   "id": "a27b2126",
   "metadata": {},
   "outputs": [],
   "source": [
    "# Preenchendo valores Nulos com 0 (em coluna especifica)\n",
    "df.na.fill(value = 0, subset = ['delay']).show(10)"
   ]
  },
  {
   "cell_type": "code",
   "execution_count": null,
   "id": "36f2aa01",
   "metadata": {},
   "outputs": [],
   "source": [
    "# Removendo valores Nulos\n",
    "df = df.na.drop()"
   ]
  },
  {
   "cell_type": "code",
   "execution_count": null,
   "id": "e6208e2c",
   "metadata": {},
   "outputs": [],
   "source": [
    "# Removendo valores Nulos (em coluna especifica)\n",
    "df = df.na.drop(subset = ['delay'])"
   ]
  }
 ],
 "metadata": {
  "kernelspec": {
   "display_name": "Python 3",
   "language": "python",
   "name": "python3"
  },
  "language_info": {
   "codemirror_mode": {
    "name": "ipython",
    "version": 3
   },
   "file_extension": ".py",
   "mimetype": "text/x-python",
   "name": "python",
   "nbconvert_exporter": "python",
   "pygments_lexer": "ipython3",
   "version": "3.9.13"
  }
 },
 "nbformat": 4,
 "nbformat_minor": 5
}
